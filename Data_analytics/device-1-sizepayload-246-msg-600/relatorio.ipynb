{
 "cells": [
  {
   "cell_type": "code",
   "execution_count": 2,
   "id": "134f65e3",
   "metadata": {},
   "outputs": [],
   "source": [
    "import pandas as pd\n",
    "import re\n",
    "import matplotlib.pyplot as plt\n",
    "import scipy\n",
    "import numpy as np\n",
    "import seaborn as sns"
   ]
  },
  {
   "cell_type": "markdown",
   "id": "d098bd74",
   "metadata": {},
   "source": [
    "Objetivos do Script:\n",
    "\n",
    "Esse script tem como objetivo ler os dados que foram capturados da nossa amostra piloto e realizar alguns estudos em cima desses dados. \n",
    "\n",
    "Os 6 primeiros tópicos que eu separei abaixo são utilizados na grande maioria dos scripts de tratamento de dados desse estudo. \n",
    "Deixei padronizado para que seja possivel tratar simulações com um dispositivo ou vários.\n",
    "\n",
    "Sumário:\n",
    "  - Leitura dos dados\n",
    "  - Separar publicações e confirmação de entrega por dispositivo simulado.\n",
    "  - Criação de um dataframe com informações capturadas. \n",
    "  - Medidas de tendência centrar por dispositivo\n",
    "  - Medidas de tendência centrar de todos os dispositivos.\n",
    "  - Gráfico de dispersão da amostra.\n",
    "  - Calculo do tamanho da amostra.\n",
    "\n",
    "Como estamos trabalhando com uma amostra piloto temos como objetivo calcular o tamanho das amostras isso será realizado na ultima parte desse script.\n"
   ]
  },
  {
   "cell_type": "code",
   "execution_count": 3,
   "id": "f47c21fe",
   "metadata": {},
   "outputs": [
    {
     "data": {
      "text/html": [
       "<div>\n",
       "<style scoped>\n",
       "    .dataframe tbody tr th:only-of-type {\n",
       "        vertical-align: middle;\n",
       "    }\n",
       "\n",
       "    .dataframe tbody tr th {\n",
       "        vertical-align: top;\n",
       "    }\n",
       "\n",
       "    .dataframe thead th {\n",
       "        text-align: right;\n",
       "    }\n",
       "</style>\n",
       "<table border=\"1\" class=\"dataframe\">\n",
       "  <thead>\n",
       "    <tr style=\"text-align: right;\">\n",
       "      <th></th>\n",
       "      <th>No.</th>\n",
       "      <th>Time</th>\n",
       "      <th>Source</th>\n",
       "      <th>Destination</th>\n",
       "      <th>Protocol</th>\n",
       "      <th>Length</th>\n",
       "      <th>Topic</th>\n",
       "      <th>Message Identifier</th>\n",
       "      <th>Source Port</th>\n",
       "      <th>Destination Port</th>\n",
       "      <th>Info</th>\n",
       "    </tr>\n",
       "  </thead>\n",
       "  <tbody>\n",
       "    <tr>\n",
       "      <th>0</th>\n",
       "      <td>15961</td>\n",
       "      <td>1080.023169</td>\n",
       "      <td>192.168.15.4</td>\n",
       "      <td>192.168.15.3</td>\n",
       "      <td>MQTT</td>\n",
       "      <td>90</td>\n",
       "      <td>NaN</td>\n",
       "      <td>NaN</td>\n",
       "      <td>59275</td>\n",
       "      <td>1883</td>\n",
       "      <td>Connect Command</td>\n",
       "    </tr>\n",
       "    <tr>\n",
       "      <th>1</th>\n",
       "      <td>15963</td>\n",
       "      <td>1080.025445</td>\n",
       "      <td>192.168.15.4</td>\n",
       "      <td>192.168.15.3</td>\n",
       "      <td>MQTT</td>\n",
       "      <td>338</td>\n",
       "      <td>Deviceb'Device - 1'</td>\n",
       "      <td>1.0</td>\n",
       "      <td>59275</td>\n",
       "      <td>1883</td>\n",
       "      <td>Publish Message (id=1) [Deviceb'Device - 1']</td>\n",
       "    </tr>\n",
       "    <tr>\n",
       "      <th>2</th>\n",
       "      <td>15964</td>\n",
       "      <td>1080.025946</td>\n",
       "      <td>192.168.15.3</td>\n",
       "      <td>192.168.15.4</td>\n",
       "      <td>MQTT</td>\n",
       "      <td>70</td>\n",
       "      <td>NaN</td>\n",
       "      <td>NaN</td>\n",
       "      <td>1883</td>\n",
       "      <td>59275</td>\n",
       "      <td>Connect Ack</td>\n",
       "    </tr>\n",
       "    <tr>\n",
       "      <th>3</th>\n",
       "      <td>15967</td>\n",
       "      <td>1080.029299</td>\n",
       "      <td>192.168.15.3</td>\n",
       "      <td>192.168.15.4</td>\n",
       "      <td>MQTT</td>\n",
       "      <td>70</td>\n",
       "      <td>NaN</td>\n",
       "      <td>1.0</td>\n",
       "      <td>1883</td>\n",
       "      <td>59275</td>\n",
       "      <td>Publish Ack (id=1)</td>\n",
       "    </tr>\n",
       "    <tr>\n",
       "      <th>4</th>\n",
       "      <td>15973</td>\n",
       "      <td>1081.031268</td>\n",
       "      <td>192.168.15.4</td>\n",
       "      <td>192.168.15.3</td>\n",
       "      <td>MQTT</td>\n",
       "      <td>338</td>\n",
       "      <td>Deviceb'Device - 1'</td>\n",
       "      <td>2.0</td>\n",
       "      <td>59275</td>\n",
       "      <td>1883</td>\n",
       "      <td>Publish Message (id=2) [Deviceb'Device - 1']</td>\n",
       "    </tr>\n",
       "    <tr>\n",
       "      <th>...</th>\n",
       "      <td>...</td>\n",
       "      <td>...</td>\n",
       "      <td>...</td>\n",
       "      <td>...</td>\n",
       "      <td>...</td>\n",
       "      <td>...</td>\n",
       "      <td>...</td>\n",
       "      <td>...</td>\n",
       "      <td>...</td>\n",
       "      <td>...</td>\n",
       "      <td>...</td>\n",
       "    </tr>\n",
       "    <tr>\n",
       "      <th>1221</th>\n",
       "      <td>22013</td>\n",
       "      <td>1683.048545</td>\n",
       "      <td>192.168.15.3</td>\n",
       "      <td>192.168.15.4</td>\n",
       "      <td>MQTT</td>\n",
       "      <td>68</td>\n",
       "      <td>NaN</td>\n",
       "      <td>NaN</td>\n",
       "      <td>1883</td>\n",
       "      <td>59275</td>\n",
       "      <td>Ping Response</td>\n",
       "    </tr>\n",
       "    <tr>\n",
       "      <th>1222</th>\n",
       "      <td>22014</td>\n",
       "      <td>1683.048570</td>\n",
       "      <td>192.168.15.4</td>\n",
       "      <td>192.168.15.3</td>\n",
       "      <td>MQTT</td>\n",
       "      <td>338</td>\n",
       "      <td>Deviceb'Device - 1'</td>\n",
       "      <td>601.0</td>\n",
       "      <td>59275</td>\n",
       "      <td>1883</td>\n",
       "      <td>Publish Message (id=601) [Deviceb'Device - 1']</td>\n",
       "    </tr>\n",
       "    <tr>\n",
       "      <th>1223</th>\n",
       "      <td>22015</td>\n",
       "      <td>1683.051353</td>\n",
       "      <td>192.168.15.3</td>\n",
       "      <td>192.168.15.4</td>\n",
       "      <td>MQTT</td>\n",
       "      <td>70</td>\n",
       "      <td>NaN</td>\n",
       "      <td>601.0</td>\n",
       "      <td>1883</td>\n",
       "      <td>59275</td>\n",
       "      <td>Publish Ack (id=601)</td>\n",
       "    </tr>\n",
       "    <tr>\n",
       "      <th>1224</th>\n",
       "      <td>22024</td>\n",
       "      <td>1684.054076</td>\n",
       "      <td>192.168.15.4</td>\n",
       "      <td>192.168.15.3</td>\n",
       "      <td>MQTT</td>\n",
       "      <td>338</td>\n",
       "      <td>Deviceb'Device - 1'</td>\n",
       "      <td>602.0</td>\n",
       "      <td>59275</td>\n",
       "      <td>1883</td>\n",
       "      <td>Publish Message (id=602) [Deviceb'Device - 1']</td>\n",
       "    </tr>\n",
       "    <tr>\n",
       "      <th>1225</th>\n",
       "      <td>22025</td>\n",
       "      <td>1684.056751</td>\n",
       "      <td>192.168.15.3</td>\n",
       "      <td>192.168.15.4</td>\n",
       "      <td>MQTT</td>\n",
       "      <td>70</td>\n",
       "      <td>NaN</td>\n",
       "      <td>602.0</td>\n",
       "      <td>1883</td>\n",
       "      <td>59275</td>\n",
       "      <td>Publish Ack (id=602)</td>\n",
       "    </tr>\n",
       "  </tbody>\n",
       "</table>\n",
       "<p>1226 rows × 11 columns</p>\n",
       "</div>"
      ],
      "text/plain": [
       "        No.         Time        Source   Destination Protocol  Length  \\\n",
       "0     15961  1080.023169  192.168.15.4  192.168.15.3     MQTT      90   \n",
       "1     15963  1080.025445  192.168.15.4  192.168.15.3     MQTT     338   \n",
       "2     15964  1080.025946  192.168.15.3  192.168.15.4     MQTT      70   \n",
       "3     15967  1080.029299  192.168.15.3  192.168.15.4     MQTT      70   \n",
       "4     15973  1081.031268  192.168.15.4  192.168.15.3     MQTT     338   \n",
       "...     ...          ...           ...           ...      ...     ...   \n",
       "1221  22013  1683.048545  192.168.15.3  192.168.15.4     MQTT      68   \n",
       "1222  22014  1683.048570  192.168.15.4  192.168.15.3     MQTT     338   \n",
       "1223  22015  1683.051353  192.168.15.3  192.168.15.4     MQTT      70   \n",
       "1224  22024  1684.054076  192.168.15.4  192.168.15.3     MQTT     338   \n",
       "1225  22025  1684.056751  192.168.15.3  192.168.15.4     MQTT      70   \n",
       "\n",
       "                    Topic  Message Identifier  Source Port  Destination Port  \\\n",
       "0                     NaN                 NaN        59275              1883   \n",
       "1     Deviceb'Device - 1'                 1.0        59275              1883   \n",
       "2                     NaN                 NaN         1883             59275   \n",
       "3                     NaN                 1.0         1883             59275   \n",
       "4     Deviceb'Device - 1'                 2.0        59275              1883   \n",
       "...                   ...                 ...          ...               ...   \n",
       "1221                  NaN                 NaN         1883             59275   \n",
       "1222  Deviceb'Device - 1'               601.0        59275              1883   \n",
       "1223                  NaN               601.0         1883             59275   \n",
       "1224  Deviceb'Device - 1'               602.0        59275              1883   \n",
       "1225                  NaN               602.0         1883             59275   \n",
       "\n",
       "                                                Info  \n",
       "0                                    Connect Command  \n",
       "1       Publish Message (id=1) [Deviceb'Device - 1']  \n",
       "2                                        Connect Ack  \n",
       "3                                 Publish Ack (id=1)  \n",
       "4       Publish Message (id=2) [Deviceb'Device - 1']  \n",
       "...                                              ...  \n",
       "1221                                   Ping Response  \n",
       "1222  Publish Message (id=601) [Deviceb'Device - 1']  \n",
       "1223                            Publish Ack (id=601)  \n",
       "1224  Publish Message (id=602) [Deviceb'Device - 1']  \n",
       "1225                            Publish Ack (id=602)  \n",
       "\n",
       "[1226 rows x 11 columns]"
      ]
     },
     "execution_count": 3,
     "metadata": {},
     "output_type": "execute_result"
    }
   ],
   "source": [
    "data = pd.read_csv(\"./data.csv\")\n",
    "ports = data[\"Source Port\"].unique()\n",
    "ports = ports[ports !=1883]\n"
   ]
  },
  {
   "cell_type": "code",
   "execution_count": 4,
   "id": "68b8dfc9",
   "metadata": {},
   "outputs": [],
   "source": [
    "#  - Separar publicações e confirmação de entrega por dispositivo simulado.\n",
    "devices = {}\n",
    "#  : devices será um dicionario que irá ter uma chave referente ao device e o valor será um dataframe referente aos respectivos devices \n",
    "for port in ports:  \n",
    "  array_publish = data.loc[data[\"Source Port\"] == port].dropna(subset=['Message Identifier'])\n",
    "  array_publish_ack = data.loc[data[\"Destination Port\"] == port].dropna(subset=['Message Identifier'])\n",
    "  device = {\"publish\":array_publish, \"publish_ack\" : array_publish_ack}\n",
    "  devices[port] = device"
   ]
  },
  {
   "cell_type": "code",
   "execution_count": 5,
   "id": "40fdeb08",
   "metadata": {},
   "outputs": [],
   "source": [
    "# - Criação de um dataframe com informações capturadas acima. \n",
    "data = {}\n",
    "for port in ports:\n",
    "    RTT = pd.DataFrame(columns=[\"Time_publish\", \"Time_ack\"])\n",
    "    for index, row in devices[port][\"publish\"].iterrows():\n",
    "        id = int(row[\"Message Identifier\"])\n",
    "        time_publish = row[\"Time\"]\n",
    "        RTT.loc[id, \"Time_publish\"] = time_publish \n",
    "\n",
    "    for index, row in devices[port][\"publish_ack\"].iterrows():\n",
    "        id = int(row[\"Message Identifier\"])\n",
    "        time_publish = row[\"Time\"]\n",
    "        RTT.loc[id, \"Time_ack\"] = time_publish\n",
    "    RTT.loc[id, \"Time_ack\"] = time_publish\n",
    "    RTT[\"RTT\"]  =(RTT[\"Time_ack\"] - RTT[\"Time_publish\"] )* 1000\n",
    "    data[port] = RTT\n"
   ]
  },
  {
   "cell_type": "markdown",
   "id": "c3c46f2a",
   "metadata": {},
   "source": [
    "## Medidas de Tendência Central Por Device"
   ]
  },
  {
   "cell_type": "code",
   "execution_count": 6,
   "id": "fab98b67",
   "metadata": {},
   "outputs": [
    {
     "name": "stdout",
     "output_type": "stream",
     "text": [
      "(Device-1)Mean Round Trip Time = 2.822141294021009\n",
      "(Device-1)Median Round Trip Time = 2.736133500093274\n",
      "(Device-1)Standard deviation  Round Trip Time = 0.5457039128427974\n",
      "(Device-1)Min Round Trip Time = 2.475666000009369\n",
      "(Device-1)Max Round Trip Time = 10.78684100002647\n",
      "---------------------------------------------------------------\n"
     ]
    }
   ],
   "source": [
    "i=1\n",
    "data_mean = []\n",
    "data_median = []\n",
    "data_std = []\n",
    "data_min = []\n",
    "data_max = []\n",
    "\n",
    "for port in ports:\n",
    "  data_mean.append(data[port][\"RTT\"].mean())\n",
    "  data_median.append(data[port][\"RTT\"].mean())\n",
    "  data_std.append(data[port][\"RTT\"].mean())\n",
    "  data_min.append(data[port][\"RTT\"].mean())\n",
    "  data_max.append(data[port][\"RTT\"].mean())\n",
    "\n",
    "  print(\"(Device-{})Mean Round Trip Time = {}\".format(i ,data[port][\"RTT\"].mean()))\n",
    "  print(\"(Device-{})Median Round Trip Time = {}\".format(i ,data[port][\"RTT\"].median()))\n",
    "  print(\"(Device-{})Standard deviation  Round Trip Time = {}\".format(i ,data[port][\"RTT\"].std()))\n",
    "  print(\"(Device-{})Min Round Trip Time = {}\".format(i ,data[port][\"RTT\"].min()))\n",
    "  print(\"(Device-{})Max Round Trip Time = {}\".format(i ,data[port][\"RTT\"].max()))\n",
    "  print(\"---------------------------------------------------------------\")\n",
    "\n",
    "  i+=1"
   ]
  },
  {
   "cell_type": "markdown",
   "id": "286828a0",
   "metadata": {},
   "source": [
    "## Medidas de Tendência Central Geral"
   ]
  },
  {
   "cell_type": "code",
   "execution_count": 7,
   "id": "3477398d",
   "metadata": {},
   "outputs": [
    {
     "name": "stdout",
     "output_type": "stream",
     "text": [
      "Mean Round Trip Time = 2.822141294021009\n",
      "Median Round Trip Time = 2.822141294021009\n",
      "Standard deviation  Round Trip Time = 2.822141294021009\n",
      "Min Round Trip Time = 2.822141294021009\n",
      "Max Round Trip Time = 2.822141294021009\n"
     ]
    }
   ],
   "source": [
    "from statistics import mean \n",
    "\n",
    "print(\"Mean Round Trip Time = {}\".format(mean(data_mean)))\n",
    "print(\"Median Round Trip Time = {}\".format(mean(data_median)))\n",
    "print(\"Standard deviation  Round Trip Time = {}\".format(mean(data_std)))\n",
    "print(\"Min Round Trip Time = {}\".format(mean(data_min)))\n",
    "print(\"Max Round Trip Time = {}\".format(mean(data_max)))\n"
   ]
  },
  {
   "cell_type": "markdown",
   "id": "25b859b5",
   "metadata": {},
   "source": [
    "## Gráfico de Dispersão"
   ]
  },
  {
   "cell_type": "code",
   "execution_count": 8,
   "id": "8d88c4e7",
   "metadata": {},
   "outputs": [
    {
     "data": {
      "image/png": "[encoded data removed]",
      "text/plain": [
       "<Figure size 720x360 with 1 Axes>"
      ]
     },
     "metadata": {
      "needs_background": "light"
     },
     "output_type": "display_data"
    }
   ],
   "source": [
    "import matplotlib \n",
    "i=1\n",
    "fig, ax = plt.subplots(figsize=(10,5),dpi=72)\n",
    "for port in ports:\n",
    "  ax.scatter(data[port][\"RTT\"].index,data[port][\"RTT\"], label='Dispositivo-{}'.format(i))\n",
    "  ax.set_ylabel('Round Trip Time (ms)')\n",
    "  ax.set_xlabel('Quantidade de Publicação')\n",
    "  ax.set_title('Gráfico de dispersão (Round Trip Time)')\n",
    "  ax.hlines(data[port][\"RTT\"].max(),  xmin=0, xmax=620, colors=\"red\", linestyles=\"dashed\", label=\"Maior Medição\")\n",
    "  ax.hlines(data[port][\"RTT\"].min(),  xmin=0, xmax=620, colors=\"green\", linestyles=\"dashed\", label=\"Menor Medição\")\n",
    "  ax.legend()\n",
    "  i+=1\n"
   ]
  },
  {
   "cell_type": "code",
   "execution_count": 9,
   "id": "f1b374c5",
   "metadata": {},
   "outputs": [
    {
     "data": {
      "image/png": "[encoded data removed]",
      "text/plain": [
       "<Figure size 864x432 with 1 Axes>"
      ]
     },
     "metadata": {
      "needs_background": "light"
     },
     "output_type": "display_data"
    }
   ],
   "source": [
    "i=1\n",
    "fig, ax = plt.subplots(figsize=(20,5),dpi=72)\n",
    "for port in ports:\n",
    "  ax = sns.histplot(data[port][\"RTT\"])\n",
    "  ax.figure.set_size_inches(12, 6)\n",
    "  ax.set_title('Distribuição de Frequências', fontsize=20)\n",
    "  ax.set_ylabel('Round Trip Time', fontsize=16)\n",
    "  ax.grid()\n",
    "  i+=1"
   ]
  },
  {
   "cell_type": "code",
   "execution_count": 10,
   "id": "871bac52",
   "metadata": {},
   "outputs": [
    {
     "data": {
      "image/png": "[encoded data removed]",
      "text/plain": [
       "<Figure size 864x288 with 1 Axes>"
      ]
     },
     "metadata": {
      "needs_background": "light"
     },
     "output_type": "display_data"
    }
   ],
   "source": [
    "fig, ax = plt.subplots(figsize=(20,5),dpi=72)\n",
    "for port in ports:\n",
    "  ax = sns.boxplot(x = 'RTT', data = data[port], orient = 'h')\n",
    "  ax.figure.set_size_inches(12, 4)\n",
    "  ax.set_title('Round Trip Time', fontsize=18)\n",
    "  ax.set_xlabel('Tempo(ms)', fontsize=14)\n",
    "  ax.set_ylabel('Dispositivo', fontsize=14)\n",
    "  ax.grid()\n",
    "\n",
    "  ax.set_xlim(2, 5)"
   ]
  },
  {
   "cell_type": "code",
   "execution_count": 11,
   "id": "b9d32ec1",
   "metadata": {},
   "outputs": [
    {
     "name": "stdout",
     "output_type": "stream",
     "text": [
      "Q3 2.7943842500235405\n",
      "Q1 2.665170250054416\n",
      "FIQ 0.12921399996912442\n",
      "limite_superior 2.988205249977227\n",
      "limite_inferior 2.4713492501007295\n",
      "média nova 2.718049135185336\n",
      "Média antiga 2.822141294021009\n",
      "Median 2.736133500093274\n",
      "Median 2.721745500025463\n"
     ]
    }
   ],
   "source": [
    "## Analisando outliers\n",
    "df_novo = {}\n",
    "for port in ports:\n",
    "  data[port]\n",
    "  q3, q1 = np.percentile(data[port][\"RTT\"], [75, 25])\n",
    "  interquartil = q3 - q1\n",
    "  limite_superior =q3 + 1.5 * interquartil\n",
    "  limite_inferior = q1 - 1.5 * interquartil \n",
    "  df_novo[port] = data[port].loc[((data[port][\"RTT\"]>limite_inferior) & (data[port][\"RTT\"]<limite_superior))]\n",
    "  dados_excluidos = data[port][\"RTT\"].shape[0] - len(df_novo[port])\n",
    "\n",
    "  print(\"Q3\", q3)\n",
    "  print(\"Q1\", q1)\n",
    "  print(\"FIQ\", interquartil)\n",
    "  print(\"limite_superior\", limite_superior)\n",
    "  print(\"limite_inferior\", limite_inferior)\n",
    "  print(\"média nova\", df_novo[port][\"RTT\"].mean())\n",
    "  print(\"Média antiga\", data[port][\"RTT\"].mean())\n",
    "  print(\"Median\", data[port][\"RTT\"].median())\n",
    "  print(\"Median\", df_novo[port][\"RTT\"].median())\n"
   ]
  },
  {
   "cell_type": "code",
   "execution_count": 12,
   "id": "33785e8f",
   "metadata": {},
   "outputs": [
    {
     "data": {
      "image/png": "[encoded data removed]",
      "text/plain": [
       "<Figure size 1440x360 with 1 Axes>"
      ]
     },
     "metadata": {
      "needs_background": "light"
     },
     "output_type": "display_data"
    }
   ],
   "source": [
    "import matplotlib \n",
    "\n",
    "i=1\n",
    "fig, ax = plt.subplots(figsize=(20,5),dpi=72)\n",
    "for port in ports:\n",
    "  ax.scatter(df_novo[port][\"RTT\"].index,df_novo[port][\"RTT\"], label='Dispositivo-{}'.format(i))\n",
    "  ax.set_ylabel('Round Trip Time (ms)')\n",
    "  ax.set_xlabel('Quantidade de Publicação')\n",
    "  ax.set_title('Gráfico de dispersão (Round Trip Time)')\n",
    "  ax.hlines(df_novo[port][\"RTT\"].max(),  xmin=0, xmax=620, colors=\"red\", linestyles=\"dashed\", label=\"Maior Medição\")\n",
    "  ax.hlines(df_novo[port][\"RTT\"].min(),  xmin=0, xmax=620, colors=\"green\", linestyles=\"dashed\", label=\"Menor Medição\")\n",
    "  ax.legend()\n",
    "  i+=1\n"
   ]
  },
  {
   "cell_type": "code",
   "execution_count": 13,
   "id": "2c9a188e",
   "metadata": {},
   "outputs": [
    {
     "data": {
      "image/png": "[encoded data removed]",
      "text/plain": [
       "<Figure size 864x432 with 1 Axes>"
      ]
     },
     "metadata": {
      "needs_background": "light"
     },
     "output_type": "display_data"
    }
   ],
   "source": [
    "i=1\n",
    "fig, ax = plt.subplots(figsize=(20,5),dpi=72)\n",
    "for port in ports:\n",
    "  ax = sns.histplot(df_novo[port][\"RTT\"], kde=True)\n",
    "  ax.figure.set_size_inches(12, 6)\n",
    "  ax.set_title('Distribuição de Frequências', fontsize=20)\n",
    "  ax.set_ylabel('Round Trip Time', fontsize=16)\n",
    "  ax.grid()\n",
    "  i+=1"
   ]
  },
  {
   "cell_type": "markdown",
   "id": "834aa520",
   "metadata": {},
   "source": [
    "# CÁLCULO DO TAMANHO DA AMOSTRA"
   ]
  },
  {
   "cell_type": "code",
   "execution_count": 14,
   "id": "f4d34346",
   "metadata": {},
   "outputs": [],
   "source": [
    "nivel_de_significancia = 0.05"
   ]
  },
  {
   "cell_type": "code",
   "execution_count": 15,
   "id": "7b90fe59",
   "metadata": {},
   "outputs": [
    {
     "data": {
      "text/plain": [
       "0.95"
      ]
     },
     "execution_count": 15,
     "metadata": {},
     "output_type": "execute_result"
    }
   ],
   "source": [
    "nivel_de_confiança = 1 - nivel_de_significancia\n",
    "nivel_de_confiança"
   ]
  },
  {
   "cell_type": "code",
   "execution_count": 16,
   "id": "d1513a87",
   "metadata": {},
   "outputs": [
    {
     "data": {
      "text/plain": [
       "1.959963984540054"
      ]
     },
     "execution_count": 16,
     "metadata": {},
     "output_type": "execute_result"
    }
   ],
   "source": [
    "#Calculando o z com scipy\n",
    "z = scipy.stats.norm.ppf(0.975)\n",
    "z"
   ]
  },
  {
   "cell_type": "markdown",
   "id": "036a09cd",
   "metadata": {},
   "source": [
    "Com nosso z calculado podemos seguir adiante\n",
    "\n",
    "### $$z = 1.959963984540054 $$\n",
    "\n",
    "Abaixo segue algumas formulas que iremos utilizar para calcular o numero de amostra\n",
    "\n"
   ]
  },
  {
   "cell_type": "markdown",
   "id": "e0241ecb",
   "metadata": {},
   "source": [
    "## $$n = \\left(z\\frac{s}{e}\\right)^2$$\n",
    "\n",
    "\n",
    "$$e = \\left(e *  \\right)^2$$\n",
    "\n",
    "\n",
    "\n",
    "Onde:\n",
    "\n",
    "$z$ = variável normal padronizada\n",
    "\n",
    "$s$ = desvio padrão amostral\n",
    "\n",
    "$e$ = erro inferencial\n",
    "\n",
    "\n",
    "### Calculando a desvio padrão $s$"
   ]
  },
  {
   "cell_type": "code",
   "execution_count": 17,
   "id": "72a3dc03",
   "metadata": {},
   "outputs": [
    {
     "data": {
      "text/plain": [
       "0.5457039128427974"
      ]
     },
     "execution_count": 17,
     "metadata": {},
     "output_type": "execute_result"
    }
   ],
   "source": [
    "desvio_padrao_amostral = RTT[\"RTT\"].std()\n",
    "desvio_padrao_amostral"
   ]
  },
  {
   "cell_type": "markdown",
   "id": "32d9b985",
   "metadata": {},
   "source": [
    "### Calculando o Erro"
   ]
  },
  {
   "cell_type": "code",
   "execution_count": 18,
   "id": "11e29c37",
   "metadata": {},
   "outputs": [
    {
     "data": {
      "text/plain": [
       "0.14110706470105047"
      ]
     },
     "execution_count": 18,
     "metadata": {},
     "output_type": "execute_result"
    }
   ],
   "source": [
    "media = RTT[\"RTT\"].mean()\n",
    "e = 0.05 * media\n",
    "e"
   ]
  },
  {
   "cell_type": "markdown",
   "id": "5fbb9cf5",
   "metadata": {},
   "source": [
    "### Calculando o tamanho da nossa amostra"
   ]
  },
  {
   "cell_type": "code",
   "execution_count": 19,
   "id": "daf7f1ab",
   "metadata": {},
   "outputs": [
    {
     "data": {
      "text/plain": [
       "57.45301204665968"
      ]
     },
     "execution_count": 19,
     "metadata": {},
     "output_type": "execute_result"
    }
   ],
   "source": [
    "n = (z * (desvio_padrao_amostral/e))**2\n",
    "n"
   ]
  },
  {
   "cell_type": "code",
   "execution_count": 20,
   "id": "3f362c56",
   "metadata": {},
   "outputs": [],
   "source": [
    "n = (z * (desvio_padrao_amostral/e))**2"
   ]
  },
  {
   "cell_type": "code",
   "execution_count": 21,
   "id": "77f020ab",
   "metadata": {},
   "outputs": [
    {
     "data": {
      "text/plain": [
       "57.45301204665968"
      ]
     },
     "execution_count": 21,
     "metadata": {},
     "output_type": "execute_result"
    }
   ],
   "source": [
    "n"
   ]
  }
 ],
 "metadata": {
  "kernelspec": {
   "display_name": "Python 3 (ipykernel)",
   "language": "python",
   "name": "python3"
  },
  "language_info": {
   "codemirror_mode": {
    "name": "ipython",
    "version": 3
   },
   "file_extension": ".py",
   "mimetype": "text/x-python",
   "name": "python",
   "nbconvert_exporter": "python",
   "pygments_lexer": "ipython3",
   "version": "3.10.7"
  }
 },
 "nbformat": 4,
 "nbformat_minor": 5
}
