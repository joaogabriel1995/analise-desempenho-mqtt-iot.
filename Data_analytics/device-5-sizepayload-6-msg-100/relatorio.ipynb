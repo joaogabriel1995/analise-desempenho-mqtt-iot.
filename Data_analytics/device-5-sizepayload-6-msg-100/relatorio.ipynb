{
 "cells": [
  {
   "cell_type": "code",
   "execution_count": 1,
   "id": "134f65e3",
   "metadata": {},
   "outputs": [],
   "source": [
    "import pandas as pd\n",
    "import re\n",
    "import matplotlib.pyplot as plt\n",
    "import scipy\n",
    "import numpy as np"
   ]
  },
  {
   "cell_type": "code",
   "execution_count": 2,
   "id": "f47c21fe",
   "metadata": {},
   "outputs": [
    {
     "data": {
      "text/html": [
       "<div>\n",
       "<style scoped>\n",
       "    .dataframe tbody tr th:only-of-type {\n",
       "        vertical-align: middle;\n",
       "    }\n",
       "\n",
       "    .dataframe tbody tr th {\n",
       "        vertical-align: top;\n",
       "    }\n",
       "\n",
       "    .dataframe thead th {\n",
       "        text-align: right;\n",
       "    }\n",
       "</style>\n",
       "<table border=\"1\" class=\"dataframe\">\n",
       "  <thead>\n",
       "    <tr style=\"text-align: right;\">\n",
       "      <th></th>\n",
       "      <th>No.</th>\n",
       "      <th>Time</th>\n",
       "      <th>Source</th>\n",
       "      <th>Destination</th>\n",
       "      <th>Protocol</th>\n",
       "      <th>Length</th>\n",
       "      <th>Topic</th>\n",
       "      <th>Message Identifier</th>\n",
       "      <th>Source Port</th>\n",
       "      <th>Destination Port</th>\n",
       "      <th>Info</th>\n",
       "    </tr>\n",
       "  </thead>\n",
       "  <tbody>\n",
       "    <tr>\n",
       "      <th>0</th>\n",
       "      <td>641</td>\n",
       "      <td>21.266512</td>\n",
       "      <td>192.168.15.4</td>\n",
       "      <td>192.168.15.3</td>\n",
       "      <td>MQTT</td>\n",
       "      <td>90</td>\n",
       "      <td>NaN</td>\n",
       "      <td>NaN</td>\n",
       "      <td>36061</td>\n",
       "      <td>1883</td>\n",
       "      <td>Connect Command</td>\n",
       "    </tr>\n",
       "    <tr>\n",
       "      <th>1</th>\n",
       "      <td>642</td>\n",
       "      <td>21.268032</td>\n",
       "      <td>192.168.15.4</td>\n",
       "      <td>192.168.15.3</td>\n",
       "      <td>MQTT</td>\n",
       "      <td>90</td>\n",
       "      <td>NaN</td>\n",
       "      <td>NaN</td>\n",
       "      <td>60501</td>\n",
       "      <td>1883</td>\n",
       "      <td>Connect Command</td>\n",
       "    </tr>\n",
       "    <tr>\n",
       "      <th>2</th>\n",
       "      <td>643</td>\n",
       "      <td>21.268601</td>\n",
       "      <td>192.168.15.4</td>\n",
       "      <td>192.168.15.3</td>\n",
       "      <td>MQTT</td>\n",
       "      <td>90</td>\n",
       "      <td>NaN</td>\n",
       "      <td>NaN</td>\n",
       "      <td>59967</td>\n",
       "      <td>1883</td>\n",
       "      <td>Connect Command</td>\n",
       "    </tr>\n",
       "    <tr>\n",
       "      <th>3</th>\n",
       "      <td>645</td>\n",
       "      <td>21.269093</td>\n",
       "      <td>192.168.15.4</td>\n",
       "      <td>192.168.15.3</td>\n",
       "      <td>MQTT</td>\n",
       "      <td>90</td>\n",
       "      <td>NaN</td>\n",
       "      <td>NaN</td>\n",
       "      <td>37215</td>\n",
       "      <td>1883</td>\n",
       "      <td>Connect Command</td>\n",
       "    </tr>\n",
       "    <tr>\n",
       "      <th>4</th>\n",
       "      <td>646</td>\n",
       "      <td>21.269524</td>\n",
       "      <td>192.168.15.3</td>\n",
       "      <td>192.168.15.4</td>\n",
       "      <td>MQTT</td>\n",
       "      <td>70</td>\n",
       "      <td>NaN</td>\n",
       "      <td>NaN</td>\n",
       "      <td>1883</td>\n",
       "      <td>36061</td>\n",
       "      <td>Connect Ack</td>\n",
       "    </tr>\n",
       "    <tr>\n",
       "      <th>...</th>\n",
       "      <td>...</td>\n",
       "      <td>...</td>\n",
       "      <td>...</td>\n",
       "      <td>...</td>\n",
       "      <td>...</td>\n",
       "      <td>...</td>\n",
       "      <td>...</td>\n",
       "      <td>...</td>\n",
       "      <td>...</td>\n",
       "      <td>...</td>\n",
       "      <td>...</td>\n",
       "    </tr>\n",
       "    <tr>\n",
       "      <th>1055</th>\n",
       "      <td>3177</td>\n",
       "      <td>124.997037</td>\n",
       "      <td>192.168.15.3</td>\n",
       "      <td>192.168.15.4</td>\n",
       "      <td>MQTT</td>\n",
       "      <td>70</td>\n",
       "      <td>NaN</td>\n",
       "      <td>104.0</td>\n",
       "      <td>1883</td>\n",
       "      <td>59967</td>\n",
       "      <td>Publish Ack (id=104)</td>\n",
       "    </tr>\n",
       "    <tr>\n",
       "      <th>1056</th>\n",
       "      <td>3179</td>\n",
       "      <td>124.998629</td>\n",
       "      <td>192.168.15.4</td>\n",
       "      <td>192.168.15.3</td>\n",
       "      <td>MQTT</td>\n",
       "      <td>97</td>\n",
       "      <td>Deviceb'Device - 4'</td>\n",
       "      <td>104.0</td>\n",
       "      <td>60501</td>\n",
       "      <td>1883</td>\n",
       "      <td>Publish Message (id=104) [Deviceb'Device - 4']</td>\n",
       "    </tr>\n",
       "    <tr>\n",
       "      <th>1057</th>\n",
       "      <td>3180</td>\n",
       "      <td>125.001194</td>\n",
       "      <td>192.168.15.3</td>\n",
       "      <td>192.168.15.4</td>\n",
       "      <td>MQTT</td>\n",
       "      <td>70</td>\n",
       "      <td>NaN</td>\n",
       "      <td>104.0</td>\n",
       "      <td>1883</td>\n",
       "      <td>60501</td>\n",
       "      <td>Publish Ack (id=104)</td>\n",
       "    </tr>\n",
       "    <tr>\n",
       "      <th>1058</th>\n",
       "      <td>3182</td>\n",
       "      <td>125.017071</td>\n",
       "      <td>192.168.15.4</td>\n",
       "      <td>192.168.15.3</td>\n",
       "      <td>MQTT</td>\n",
       "      <td>97</td>\n",
       "      <td>Deviceb'Device - 1'</td>\n",
       "      <td>104.0</td>\n",
       "      <td>36061</td>\n",
       "      <td>1883</td>\n",
       "      <td>Publish Message (id=104) [Deviceb'Device - 1']</td>\n",
       "    </tr>\n",
       "    <tr>\n",
       "      <th>1059</th>\n",
       "      <td>3183</td>\n",
       "      <td>125.019765</td>\n",
       "      <td>192.168.15.3</td>\n",
       "      <td>192.168.15.4</td>\n",
       "      <td>MQTT</td>\n",
       "      <td>70</td>\n",
       "      <td>NaN</td>\n",
       "      <td>104.0</td>\n",
       "      <td>1883</td>\n",
       "      <td>36061</td>\n",
       "      <td>Publish Ack (id=104)</td>\n",
       "    </tr>\n",
       "  </tbody>\n",
       "</table>\n",
       "<p>1060 rows × 11 columns</p>\n",
       "</div>"
      ],
      "text/plain": [
       "       No.        Time        Source   Destination Protocol  Length  \\\n",
       "0      641   21.266512  192.168.15.4  192.168.15.3     MQTT      90   \n",
       "1      642   21.268032  192.168.15.4  192.168.15.3     MQTT      90   \n",
       "2      643   21.268601  192.168.15.4  192.168.15.3     MQTT      90   \n",
       "3      645   21.269093  192.168.15.4  192.168.15.3     MQTT      90   \n",
       "4      646   21.269524  192.168.15.3  192.168.15.4     MQTT      70   \n",
       "...    ...         ...           ...           ...      ...     ...   \n",
       "1055  3177  124.997037  192.168.15.3  192.168.15.4     MQTT      70   \n",
       "1056  3179  124.998629  192.168.15.4  192.168.15.3     MQTT      97   \n",
       "1057  3180  125.001194  192.168.15.3  192.168.15.4     MQTT      70   \n",
       "1058  3182  125.017071  192.168.15.4  192.168.15.3     MQTT      97   \n",
       "1059  3183  125.019765  192.168.15.3  192.168.15.4     MQTT      70   \n",
       "\n",
       "                    Topic  Message Identifier  Source Port  Destination Port  \\\n",
       "0                     NaN                 NaN        36061              1883   \n",
       "1                     NaN                 NaN        60501              1883   \n",
       "2                     NaN                 NaN        59967              1883   \n",
       "3                     NaN                 NaN        37215              1883   \n",
       "4                     NaN                 NaN         1883             36061   \n",
       "...                   ...                 ...          ...               ...   \n",
       "1055                  NaN               104.0         1883             59967   \n",
       "1056  Deviceb'Device - 4'               104.0        60501              1883   \n",
       "1057                  NaN               104.0         1883             60501   \n",
       "1058  Deviceb'Device - 1'               104.0        36061              1883   \n",
       "1059                  NaN               104.0         1883             36061   \n",
       "\n",
       "                                                Info  \n",
       "0                                    Connect Command  \n",
       "1                                    Connect Command  \n",
       "2                                    Connect Command  \n",
       "3                                    Connect Command  \n",
       "4                                        Connect Ack  \n",
       "...                                              ...  \n",
       "1055                            Publish Ack (id=104)  \n",
       "1056  Publish Message (id=104) [Deviceb'Device - 4']  \n",
       "1057                            Publish Ack (id=104)  \n",
       "1058  Publish Message (id=104) [Deviceb'Device - 1']  \n",
       "1059                            Publish Ack (id=104)  \n",
       "\n",
       "[1060 rows x 11 columns]"
      ]
     },
     "execution_count": 2,
     "metadata": {},
     "output_type": "execute_result"
    }
   ],
   "source": [
    "data = pd.read_csv(\"./data.csv\")\n",
    "ports = data[\"Source Port\"].unique()\n",
    "ports = ports[ports !=1883]\n",
    "data\n"
   ]
  },
  {
   "cell_type": "code",
   "execution_count": 3,
   "id": "68b8dfc9",
   "metadata": {},
   "outputs": [],
   "source": [
    "devices = {}\n",
    "#  : devices será um dicionario que irá ter uma chave referente ao device e o valor será um dataframe referente aos respectivos devices \n",
    "for port in ports:  \n",
    "  array_publish = data.loc[data[\"Source Port\"] == port].dropna(subset=['Message Identifier'])\n",
    "  array_publish_ack = data.loc[data[\"Destination Port\"] == port].dropna(subset=['Message Identifier'])\n",
    "  device = {\"publish\":array_publish, \"publish_ack\" : array_publish_ack}\n",
    "  devices[port] = device"
   ]
  },
  {
   "cell_type": "code",
   "execution_count": 4,
   "id": "40fdeb08",
   "metadata": {},
   "outputs": [],
   "source": [
    "data = {}\n",
    "for port in ports:\n",
    "    RTT = pd.DataFrame(columns=[\"Time_publish\", \"Time_ack\"])\n",
    "    for index, row in devices[port][\"publish\"].iterrows():\n",
    "        id = int(row[\"Message Identifier\"])\n",
    "        time_publish = row[\"Time\"]\n",
    "        RTT.loc[id, \"Size_Payload\"] = 246 \n",
    "\n",
    "        RTT.loc[id, \"Time_publish\"] = time_publish \n",
    "\n",
    "    for index, row in devices[port][\"publish_ack\"].iterrows():\n",
    "        id = int(row[\"Message Identifier\"])\n",
    "        time_publish = row[\"Time\"]\n",
    "        RTT.loc[id, \"Time_ack\"] = time_publish\n",
    "    RTT.loc[id, \"Time_ack\"] = time_publish\n",
    "    RTT[\"RTT\"]  =(RTT[\"Time_ack\"] - RTT[\"Time_publish\"] )* 1000\n",
    "    data[port] = RTT\n"
   ]
  },
  {
   "cell_type": "markdown",
   "id": "c3c46f2a",
   "metadata": {},
   "source": [
    "## Medidas de Tendência Central Por Device"
   ]
  },
  {
   "cell_type": "code",
   "execution_count": 5,
   "id": "fab98b67",
   "metadata": {},
   "outputs": [
    {
     "name": "stdout",
     "output_type": "stream",
     "text": [
      "(Device-1)Mean Round Trip Time = 4.601038692308648\n",
      "(Device-1)Median Round Trip Time = 3.602002999999243\n",
      "(Device-1)Standard deviation  Round Trip Time = 3.355256425549816\n",
      "(Device-1)Min Round Trip Time = 2.1681919999991806\n",
      "(Device-1)Max Round Trip Time = 24.478406000000064\n",
      "---------------------------------------------------------------\n",
      "(Device-2)Mean Round Trip Time = 4.39981813461584\n",
      "(Device-2)Median Round Trip Time = 3.793070000000398\n",
      "(Device-2)Standard deviation  Round Trip Time = 2.6520343346207205\n",
      "(Device-2)Min Round Trip Time = 1.6460800000004383\n",
      "(Device-2)Max Round Trip Time = 17.82986799999975\n",
      "---------------------------------------------------------------\n",
      "(Device-3)Mean Round Trip Time = 3.8112378173072403\n",
      "(Device-3)Median Round Trip Time = 2.815661500001454\n",
      "(Device-3)Standard deviation  Round Trip Time = 3.4018317510954783\n",
      "(Device-3)Min Round Trip Time = 1.7406700000002218\n",
      "(Device-3)Max Round Trip Time = 23.91278400000374\n",
      "---------------------------------------------------------------\n",
      "(Device-4)Mean Round Trip Time = 3.6820666826927666\n",
      "(Device-4)Median Round Trip Time = 2.901571500004252\n",
      "(Device-4)Standard deviation  Round Trip Time = 3.273621266037914\n",
      "(Device-4)Min Round Trip Time = 1.8190589999989015\n",
      "(Device-4)Max Round Trip Time = 23.729903000003105\n",
      "---------------------------------------------------------------\n",
      "(Device-5)Mean Round Trip Time = 3.701941336538826\n",
      "(Device-5)Median Round Trip Time = 2.918410999997789\n",
      "(Device-5)Standard deviation  Round Trip Time = 3.2659192265907286\n",
      "(Device-5)Min Round Trip Time = 1.7778840000062246\n",
      "(Device-5)Max Round Trip Time = 23.751857999997128\n",
      "---------------------------------------------------------------\n"
     ]
    }
   ],
   "source": [
    "i=1\n",
    "data_mean = []\n",
    "data_median = []\n",
    "data_std = []\n",
    "data_min = []\n",
    "data_max = []\n",
    "\n",
    "for port in ports:\n",
    "  data_mean.append(data[port][\"RTT\"].mean())\n",
    "  data_median.append(data[port][\"RTT\"].mean())\n",
    "  data_std.append(data[port][\"RTT\"].mean())\n",
    "  data_min.append(data[port][\"RTT\"].mean())\n",
    "  data_max.append(data[port][\"RTT\"].mean())\n",
    "\n",
    "  print(\"(Device-{})Mean Round Trip Time = {}\".format(i ,data[port][\"RTT\"].mean()))\n",
    "  print(\"(Device-{})Median Round Trip Time = {}\".format(i ,data[port][\"RTT\"].median()))\n",
    "  print(\"(Device-{})Standard deviation  Round Trip Time = {}\".format(i ,data[port][\"RTT\"].std()))\n",
    "  print(\"(Device-{})Min Round Trip Time = {}\".format(i ,data[port][\"RTT\"].min()))\n",
    "  print(\"(Device-{})Max Round Trip Time = {}\".format(i ,data[port][\"RTT\"].max()))\n",
    "  print(\"---------------------------------------------------------------\")\n",
    "\n",
    "  i+=1"
   ]
  },
  {
   "cell_type": "markdown",
   "id": "286828a0",
   "metadata": {},
   "source": [
    "## Medidas de Tendência Central Geral"
   ]
  },
  {
   "cell_type": "code",
   "execution_count": 6,
   "id": "3477398d",
   "metadata": {},
   "outputs": [
    {
     "name": "stdout",
     "output_type": "stream",
     "text": [
      "Mean Round Trip Time = 4.0392205326926645\n",
      "Median Round Trip Time = 4.0392205326926645\n",
      "Standard deviation  Round Trip Time = 4.0392205326926645\n",
      "Min Round Trip Time = 4.0392205326926645\n",
      "Max Round Trip Time = 4.0392205326926645\n"
     ]
    }
   ],
   "source": [
    "from statistics import mean \n",
    "\n",
    "print(\"Mean Round Trip Time = {}\".format(mean(data_mean)))\n",
    "print(\"Median Round Trip Time = {}\".format(mean(data_median)))\n",
    "print(\"Standard deviation  Round Trip Time = {}\".format(mean(data_std)))\n",
    "print(\"Min Round Trip Time = {}\".format(mean(data_min)))\n",
    "print(\"Max Round Trip Time = {}\".format(mean(data_max)))\n"
   ]
  },
  {
   "cell_type": "code",
   "execution_count": 7,
   "id": "d42eb4ac",
   "metadata": {},
   "outputs": [
    {
     "data": {
      "text/plain": [
       "<matplotlib.legend.Legend at 0x7f43277d8310>"
      ]
     },
     "execution_count": 7,
     "metadata": {},
     "output_type": "execute_result"
    },
    {
     "data": {
      "image/png": "[encoded data removed]",
      "text/plain": [
       "<Figure size 1440x216 with 1 Axes>"
      ]
     },
     "metadata": {
      "needs_background": "light"
     },
     "output_type": "display_data"
    }
   ],
   "source": [
    "i=1\n",
    "fig, ax = plt.subplots(figsize=(20,3),dpi=72)\n",
    "for port in ports:\n",
    "  data_mean.append(data[port][\"RTT\"].mean())\n",
    "  ax.scatter(data[port][\"RTT\"].index,data[port][\"RTT\"], label='device-{}'.format(i))\n",
    "  i+=1\n",
    "ax.hlines(mean(data_mean), xmax=100, xmin=0, linestyles=\"dashed\", color=\"black\" ,label='média-{} ms'.format(round(mean(data_mean),2)))\n",
    "ax.legend()\n",
    "\n",
    "\n"
   ]
  },
  {
   "cell_type": "code",
   "execution_count": 8,
   "id": "a1d2b360",
   "metadata": {},
   "outputs": [
    {
     "name": "stdout",
     "output_type": "stream",
     "text": [
      "Nossa nova média é 3.947988464647436\n",
      "Nossa média antiga era 4.601038692308648\n",
      "Foram eliminados o total de 5 outliers\n",
      "Nossa nova média é 3.9502763000004393\n",
      "Nossa média antiga era 4.39981813461584\n",
      "Foram eliminados o total de 4 outliers\n",
      "Nossa nova média é 3.2106054499995547\n",
      "Nossa média antiga era 3.8112378173072403\n",
      "Foram eliminados o total de 4 outliers\n",
      "Nossa nova média é 2.832428523256499\n",
      "Nossa média antiga era 3.6820666826927666\n",
      "Foram eliminados o total de 18 outliers\n",
      "Nossa nova média é 2.8250457176474026\n",
      "Nossa média antiga era 3.701941336538826\n",
      "Foram eliminados o total de 19 outliers\n"
     ]
    }
   ],
   "source": [
    "## Analisando outliers\n",
    "df_novo = {}\n",
    "for port in ports:\n",
    "  data[port]\n",
    "  q3, q1 = np.percentile(data[port][\"RTT\"], [75, 25])\n",
    "  interquartil = q3 - q1\n",
    "  limite_superior =q3 + 1.5 * interquartil\n",
    "  limite_inferior = q1 - 1.5 * interquartil \n",
    "  df_novo[port] = data[port].loc[((data[port][\"RTT\"]>limite_inferior) & (data[port][\"RTT\"]<limite_superior))]\n",
    "  dados_excluidos = data[port][\"RTT\"].shape[0] - len(df_novo[port])\n",
    "\n",
    "  print(\"Nossa nova média é {}\" .format(np.mean(df_novo[port][\"RTT\"])))\n",
    "  print(\"Nossa média antiga era {}\" .format(np.mean(data[port][\"RTT\"])))\n",
    "  print(\"Foram eliminados o total de {} outliers\"  .format(dados_excluidos))\n",
    "  media =np.mean(df_novo[port][\"RTT\"])\n",
    "\n"
   ]
  },
  {
   "cell_type": "code",
   "execution_count": 9,
   "id": "57ffb8ab",
   "metadata": {},
   "outputs": [
    {
     "data": {
      "text/plain": [
       "<matplotlib.legend.Legend at 0x7f4325540160>"
      ]
     },
     "execution_count": 9,
     "metadata": {},
     "output_type": "execute_result"
    },
    {
     "data": {
      "image/png": "[encoded data removed]",
      "text/plain": [
       "<Figure size 1440x360 with 1 Axes>"
      ]
     },
     "metadata": {
      "needs_background": "light"
     },
     "output_type": "display_data"
    }
   ],
   "source": [
    "i=1\n",
    "data_mean_outlier = []\n",
    "fig, ax = plt.subplots(figsize=(20,5),dpi=72)\n",
    "for port in ports:\n",
    "  data_mean_outlier.append(df_novo[port][\"RTT\"].mean())\n",
    "\n",
    "  ax.scatter(df_novo[port][\"RTT\"].index,df_novo[port][\"RTT\"], label='device-{}'.format(i))\n",
    "  i+=1\n",
    "\n",
    "ax.hlines(mean(data_mean), xmax=100, xmin=0, linestyles=\"dashed\", color=\"black\" ,label='média-{} ms'.format(round(mean(data_mean_outlier),2)))\n",
    "ax.legend()"
   ]
  },
  {
   "cell_type": "code",
   "execution_count": 10,
   "id": "76703970",
   "metadata": {},
   "outputs": [],
   "source": [
    "t = 0\n",
    "regressao = pd.DataFrame()\n",
    "for key, value in data.items():\n",
    "  regressao = pd.concat([regressao,value])\n",
    "\n",
    "regressao.reset_index()\n",
    "regressao.to_csv(\"regressao-5-6-100.csv\",index=False)"
   ]
  },
  {
   "cell_type": "code",
   "execution_count": 11,
   "id": "35302a0b",
   "metadata": {},
   "outputs": [
    {
     "ename": "NameError",
     "evalue": "name 'z' is not defined",
     "output_type": "error",
     "traceback": [
      "\u001b[0;31m---------------------------------------------------------------------------\u001b[0m",
      "\u001b[0;31mNameError\u001b[0m                                 Traceback (most recent call last)",
      "\u001b[1;32m/home/joao/Desenvolvimento/tcc/docker/Data_analytics/device-5-sizepayload-6-msg-100/relatorio.ipynb Cell 13'\u001b[0m in \u001b[0;36m<cell line: 1>\u001b[0;34m()\u001b[0m\n\u001b[0;32m----> <a href='vscode-notebook-cell:/home/joao/Desenvolvimento/tcc/docker/Data_analytics/device-5-sizepayload-6-msg-100/relatorio.ipynb#ch0000012?line=0'>1</a>\u001b[0m n \u001b[39m=\u001b[39m (z \u001b[39m*\u001b[39m (desvio_padrao_amostral\u001b[39m/\u001b[39me))\u001b[39m*\u001b[39m\u001b[39m*\u001b[39m\u001b[39m2\u001b[39m\n\u001b[1;32m      <a href='vscode-notebook-cell:/home/joao/Desenvolvimento/tcc/docker/Data_analytics/device-5-sizepayload-6-msg-100/relatorio.ipynb#ch0000012?line=1'>2</a>\u001b[0m n\n",
      "\u001b[0;31mNameError\u001b[0m: name 'z' is not defined"
     ]
    }
   ],
   "source": [
    "n = (z * (desvio_padrao_amostral/e))**2\n",
    "n"
   ]
  },
  {
   "cell_type": "code",
   "execution_count": null,
   "id": "2742125d",
   "metadata": {},
   "outputs": [],
   "source": [
    "err = (1.96* mean(data_mean)) /500**0.5 "
   ]
  },
  {
   "cell_type": "code",
   "execution_count": null,
   "id": "dc8c0d50",
   "metadata": {},
   "outputs": [],
   "source": [
    "v = err/4.0392205326926645\n"
   ]
  },
  {
   "cell_type": "code",
   "execution_count": null,
   "id": "770e4260",
   "metadata": {},
   "outputs": [
    {
     "data": {
      "text/plain": [
       "0.08765386471799173"
      ]
     },
     "execution_count": 59,
     "metadata": {},
     "output_type": "execute_result"
    }
   ],
   "source": [
    "v"
   ]
  },
  {
   "cell_type": "code",
   "execution_count": null,
   "id": "06481a81",
   "metadata": {},
   "outputs": [],
   "source": []
  }
 ],
 "metadata": {
  "kernelspec": {
   "display_name": "Python 3 (ipykernel)",
   "language": "python",
   "name": "python3"
  },
  "language_info": {
   "codemirror_mode": {
    "name": "ipython",
    "version": 3
   },
   "file_extension": ".py",
   "mimetype": "text/x-python",
   "name": "python",
   "nbconvert_exporter": "python",
   "pygments_lexer": "ipython3",
   "version": "3.10.7"
  }
 },
 "nbformat": 4,
 "nbformat_minor": 5
}
