{
 "cells": [
  {
   "cell_type": "code",
   "execution_count": 2,
   "id": "134f65e3",
   "metadata": {},
   "outputs": [],
   "source": [
    "import pandas as pd\n",
    "import re\n",
    "import matplotlib.pyplot as plt\n",
    "import scipy\n",
    "import numpy as np\n",
    "import seaborn as sns"
   ]
  },
  {
   "cell_type": "markdown",
   "id": "faa7133f",
   "metadata": {},
   "source": [
    "Objetivos do Script:\n",
    "\n",
    "Esse script tem como objetivo ler os dados que foram capturados da nossa amostra piloto e realizar alguns estudos em cima desses dados. \n",
    "\n",
    "Os 6 primeiros tópicos que eu separei abaixo são utilizados na grande maioria dos scripts de tratamento de dados desse estudo. \n",
    "Deixei padronizado para que seja possivel tratar simulações com um dispositivo ou vários.\n",
    "\n",
    "Sumário:\n",
    "  - Leitura dos dados\n",
    "  - Separar publicações e confirmação de entrega por dispositivo simulado.\n",
    "  - Criação de um dataframe com informações capturadas. \n",
    "  - Medidas de tendência centrar por dispositivo\n",
    "  - Medidas de tendência centrar de todos os dispositivos.\n",
    "  - Gráfico de dispersão da amostra.\n",
    "  - Calculo do tamanho da amostra.\n",
    "\n",
    "Como estamos trabalhando com uma amostra piloto temos como objetivo calcular o tamanho das amostras isso será realizado na ultima parte desse script.\n",
    "\n"
   ]
  },
  {
   "cell_type": "code",
   "execution_count": 3,
   "id": "f47c21fe",
   "metadata": {},
   "outputs": [],
   "source": [
    "# - Leitura dos dados\n",
    "\n",
    "data = pd.read_csv(\"./data.csv\")\n",
    "ports = data[\"Source Port\"].unique()\n",
    "ports = ports[ports !=1883]"
   ]
  },
  {
   "cell_type": "code",
   "execution_count": 4,
   "id": "68b8dfc9",
   "metadata": {},
   "outputs": [],
   "source": [
    "#  - Separar publicações e confirmação de entrega por dispositivo simulado.\n",
    "devices = {}\n",
    "#  : devices será um dicionario que irá ter uma chave referente ao device e o valor será um dataframe referente aos respectivos devices \n",
    "for port in ports:  \n",
    "  array_publish = data.loc[data[\"Source Port\"] == port].dropna(subset=['Message Identifier'])\n",
    "  array_publish_ack = data.loc[data[\"Destination Port\"] == port].dropna(subset=['Message Identifier'])\n",
    "  device = {\"publish\":array_publish, \"publish_ack\" : array_publish_ack}\n",
    "  devices[port] = device"
   ]
  },
  {
   "cell_type": "code",
   "execution_count": 5,
   "id": "40fdeb08",
   "metadata": {},
   "outputs": [],
   "source": [
    "# - Criação de um dataframe com informações capturadas acima. \n",
    "data = {}\n",
    "for port in ports:\n",
    "    RTT = pd.DataFrame(columns=[\"Time_publish\", \"Time_ack\"])\n",
    "    for index, row in devices[port][\"publish\"].iterrows():\n",
    "        id = int(row[\"Message Identifier\"])\n",
    "        time_publish = row[\"Time\"]\n",
    "        RTT.loc[id, \"Time_publish\"] = time_publish \n",
    "\n",
    "    for index, row in devices[port][\"publish_ack\"].iterrows():\n",
    "        id = int(row[\"Message Identifier\"])\n",
    "        time_publish = row[\"Time\"]\n",
    "        RTT.loc[id, \"Time_ack\"] = time_publish\n",
    "    RTT.loc[id, \"Time_ack\"] = time_publish\n",
    "    RTT[\"RTT\"]  =(RTT[\"Time_ack\"] - RTT[\"Time_publish\"] )* 1000\n",
    "    data[port] = RTT\n"
   ]
  },
  {
   "cell_type": "markdown",
   "id": "c3c46f2a",
   "metadata": {},
   "source": [
    "## Medidas de Tendência Central Por Device"
   ]
  },
  {
   "cell_type": "code",
   "execution_count": 6,
   "id": "fab98b67",
   "metadata": {},
   "outputs": [
    {
     "name": "stdout",
     "output_type": "stream",
     "text": [
      "(Device-1)Mean Round Trip Time = 2.794579920265673\n",
      "(Device-1)Median Round Trip Time = 2.6867750000008073\n",
      "(Device-1)Standard deviation  Round Trip Time = 0.6409882996918244\n",
      "(Device-1)Min Round Trip Time = 2.37513999991279\n",
      "(Device-1)Max Round Trip Time = 12.155039000049328\n",
      "---------------------------------------------------------------\n"
     ]
    }
   ],
   "source": [
    "i=1\n",
    "data_mean = []\n",
    "data_median = []\n",
    "data_std = []\n",
    "data_min = []\n",
    "data_max = []\n",
    "\n",
    "for port in ports:\n",
    "  data_mean.append(data[port][\"RTT\"].mean())\n",
    "  data_median.append(data[port][\"RTT\"].mean())\n",
    "  data_std.append(data[port][\"RTT\"].mean())\n",
    "  data_min.append(data[port][\"RTT\"].mean())\n",
    "  data_max.append(data[port][\"RTT\"].mean())\n",
    "\n",
    "  print(\"(Device-{})Mean Round Trip Time = {}\".format(i ,data[port][\"RTT\"].mean()))\n",
    "  print(\"(Device-{})Median Round Trip Time = {}\".format(i ,data[port][\"RTT\"].median()))\n",
    "  print(\"(Device-{})Standard deviation  Round Trip Time = {}\".format(i ,data[port][\"RTT\"].std()))\n",
    "  print(\"(Device-{})Min Round Trip Time = {}\".format(i ,data[port][\"RTT\"].min()))\n",
    "  print(\"(Device-{})Max Round Trip Time = {}\".format(i ,data[port][\"RTT\"].max()))\n",
    "  print(\"---------------------------------------------------------------\")\n",
    "\n",
    "  i+=1"
   ]
  },
  {
   "cell_type": "markdown",
   "id": "286828a0",
   "metadata": {},
   "source": [
    "## Medidas de Tendência Central Geral"
   ]
  },
  {
   "cell_type": "code",
   "execution_count": 7,
   "id": "3477398d",
   "metadata": {},
   "outputs": [
    {
     "name": "stdout",
     "output_type": "stream",
     "text": [
      "Mean Round Trip Time = 2.794579920265673\n",
      "Median Round Trip Time = 2.794579920265673\n",
      "Standard deviation  Round Trip Time = 2.794579920265673\n",
      "Min Round Trip Time = 2.794579920265673\n",
      "Max Round Trip Time = 2.794579920265673\n"
     ]
    }
   ],
   "source": [
    "from statistics import mean \n",
    "\n",
    "print(\"Mean Round Trip Time = {}\".format(mean(data_mean)))\n",
    "print(\"Median Round Trip Time = {}\".format(mean(data_median)))\n",
    "print(\"Standard deviation  Round Trip Time = {}\".format(mean(data_std)))\n",
    "print(\"Min Round Trip Time = {}\".format(mean(data_min)))\n",
    "print(\"Max Round Trip Time = {}\".format(mean(data_max)))\n"
   ]
  },
  {
   "cell_type": "markdown",
   "id": "4c7208d7",
   "metadata": {},
   "source": [
    "## Gráfico de Dispersão"
   ]
  },
  {
   "cell_type": "code",
   "execution_count": 8,
   "id": "023878d1",
   "metadata": {},
   "outputs": [
    {
     "data": {
      "image/png": "[encoded data removed]",
      "text/plain": [
       "<Figure size 720x360 with 1 Axes>"
      ]
     },
     "metadata": {
      "needs_background": "light"
     },
     "output_type": "display_data"
    }
   ],
   "source": [
    "import matplotlib \n",
    "# matplotlib.rc('xtick', labelsize=20) \n",
    "# matplotlib.rc('ytick', labelsize=20) \n",
    "# matplotlib.rcParams.update({'font.size': 15})\n",
    "i=1\n",
    "fig, ax = plt.subplots(figsize=(10,5),dpi=72)\n",
    "for port in ports:\n",
    "  ax.scatter(data[port][\"RTT\"].index,data[port][\"RTT\"], label='Dispositivo-{}'.format(i))\n",
    "  ax.set_ylabel('Round Trip Time (ms)')\n",
    "  ax.set_xlabel('Quantidade de Publicação')\n",
    "  ax.set_title('Gráfico de dispersão (Round Trip Time)')\n",
    "  ax.hlines(data[port][\"RTT\"].max(),  xmin=0, xmax=620, colors=\"red\", linestyles=\"dashed\", label=\"Maior Medição\")\n",
    "  ax.hlines(data[port][\"RTT\"].min(),  xmin=0, xmax=620, colors=\"green\", linestyles=\"dashed\", label=\"Menor Medição\")\n",
    "  ax.legend()\n",
    "  i+=1\n"
   ]
  },
  {
   "cell_type": "markdown",
   "id": "d95692a2",
   "metadata": {},
   "source": [
    "### Analisando Dados Discrepantes(Outliers).\n",
    "\n",
    "Analisando o gráfico acima pode-se perceber que existem dados discrepantes, esses dados são conhecidos como outliers, que são dados que diferenciam drasticamente de todos os outros.\n",
    "\n",
    "Em outras palavras, um outlier é um valor que foge da normalidade e que pode causar anomalias nos resultados obtidos por meio de algoritmos e sistemas de análise.\n",
    "\n",
    "Vamos analisar um gráfico que é denominado boxPlot e depois utilizaremos uma regra para limpar os outliers.\n",
    "\n",
    "O grande objetivo é verificar a distribuição dos dados. Assim, as conclusões que tiramos ao analisar um box plot são: centro dos dados (a média ou mediana), a amplitude dos dados (máximo – mínimo), a simetria ou assimetria do conjunto de dados e a presença de outliers.\n",
    "\n",
    "Segue uma imagem abaixo que representa um boxplot. Iremos utilizar um conceito estatistico denominado intervalos interquartils"
   ]
  },
  {
   "cell_type": "markdown",
   "id": "0d747dfb",
   "metadata": {},
   "source": [
    "![alt text](../../Documentation/docs/image/boxplotinfo.png)\n"
   ]
  },
  {
   "cell_type": "markdown",
   "id": "dcb2ec31",
   "metadata": {},
   "source": [
    "Uma regra bastante usada afirma que um dado é um outlier quando ele é maior que $1{,}5\\cdot \\text{FIQ}$ acima do terceiro quartil ou abaixo do primeiro quartil. \n",
    "\n",
    "\n",
    "$$ {FIQ} =  {Q}_3 - {Q}_1 $$\n",
    "$$ LimiteInferior =  {Q}_1 - 1,5.{FIQ}$$ \n",
    "$$ LimiteSuperior =  {Q}_3 + 1,5.{FIQ}$$\n",
    "\n",
    "Segue abaixo o gráfico boxplot referente aos nossos dados."
   ]
  },
  {
   "cell_type": "code",
   "execution_count": 21,
   "id": "3b5f2c43",
   "metadata": {},
   "outputs": [
    {
     "data": {
      "text/plain": [
       "(2.0, 5.0)"
      ]
     },
     "execution_count": 21,
     "metadata": {},
     "output_type": "execute_result"
    },
    {
     "data": {
      "image/png": "[encoded data removed]",
      "text/plain": [
       "<Figure size 864x288 with 1 Axes>"
      ]
     },
     "metadata": {
      "needs_background": "light"
     },
     "output_type": "display_data"
    }
   ],
   "source": [
    "fig, ax = plt.subplots(figsize=(20,5),dpi=72)\n",
    "ax = sns.boxplot(x = 'RTT', data = data[37953], orient = 'h')\n",
    "ax.figure.set_size_inches(12, 4)\n",
    "ax.set_title('Round Trip Time', fontsize=18)\n",
    "ax.set_xlabel('Tempo(ms)', fontsize=14)\n",
    "ax.set_ylabel('Dispositivo', fontsize=14)\n",
    "ax.grid()\n",
    "\n",
    "ax.set_xlim(2, 5)"
   ]
  },
  {
   "cell_type": "markdown",
   "id": "dd28dc74",
   "metadata": {},
   "source": [
    "Sabemos que a média é uma medida de tendência central que leva em consideração todos os valores de uma amostra o que é algo positivo. No entanto, como a média é sensivel a cada valor, valores extremos pode afeta-la de maneira consideravel. A média acaba não resistindo a valores extremos, portanto podemos dizer que a média não é uma medida de centro resistente. Quando nossa mediana é menor que nossa média indica uma assimetria para direita, ou seja, poucos valores de magnitude alta estão aumentando o valor da nossa média, podendo esses serem valores que são considerados outliers."
   ]
  },
  {
   "cell_type": "code",
   "execution_count": 25,
   "id": "0907855e",
   "metadata": {},
   "outputs": [
    {
     "name": "stdout",
     "output_type": "stream",
     "text": [
      "Q3 2.75718175001316\n",
      "Q1 2.633567499984224\n",
      "FIQ 0.12361425002893611\n",
      "limite_superior 2.9426031250565643\n",
      "limite_inferior 2.44814612494082\n",
      "média nova 2.6776537992498155\n",
      "Média antiga 2.794579920265673\n",
      "Median 2.6867750000008073\n",
      "Median 2.676370000017414\n"
     ]
    }
   ],
   "source": [
    "## Analisando outliers\n",
    "df_novo = {}\n",
    "for port in ports:\n",
    "  data[port]\n",
    "  q3, q1 = np.percentile(data[port][\"RTT\"], [75, 25])\n",
    "  interquartil = q3 - q1\n",
    "  limite_superior =q3 + 1.5 * interquartil\n",
    "  limite_inferior = q1 - 1.5 * interquartil \n",
    "  df_novo[port] = data[port].loc[((data[port][\"RTT\"]>limite_inferior) & (data[port][\"RTT\"]<limite_superior))]\n",
    "  dados_excluidos = data[port][\"RTT\"].shape[0] - len(df_novo[port])\n",
    "\n",
    "  print(\"Q3\", q3)\n",
    "  print(\"Q1\", q1)\n",
    "  print(\"FIQ\", interquartil)\n",
    "  print(\"limite_superior\", limite_superior)\n",
    "  print(\"limite_inferior\", limite_inferior)\n",
    "  print(\"média nova\", df_novo[port][\"RTT\"].mean())\n",
    "  print(\"Média antiga\", data[port][\"RTT\"].mean())\n",
    "  print(\"Median\", data[port][\"RTT\"].median())\n",
    "  print(\"Median\", df_novo[port][\"RTT\"].median())\n"
   ]
  },
  {
   "cell_type": "code",
   "execution_count": 20,
   "id": "858c5f0f",
   "metadata": {},
   "outputs": [
    {
     "data": {
      "image/png": "[encoded data removed]",
      "text/plain": [
       "<Figure size 1440x360 with 1 Axes>"
      ]
     },
     "metadata": {
      "needs_background": "light"
     },
     "output_type": "display_data"
    }
   ],
   "source": [
    "import matplotlib \n",
    "# matplotlib.rc('xtick', labelsize=20) \n",
    "# matplotlib.rc('ytick', labelsize=20) \n",
    "# matplotlib.rcParams.update({'font.size': 15})\n",
    "i=1\n",
    "fig, ax = plt.subplots(figsize=(20,5),dpi=72)\n",
    "for port in ports:\n",
    "  ax.scatter(df_novo[port][\"RTT\"].index,df_novo[port][\"RTT\"], label='Dispositivo-{}'.format(i))\n",
    "  ax.set_ylabel('Round Trip Time (ms)')\n",
    "  ax.set_xlabel('Quantidade de Publicação')\n",
    "  ax.set_title('Gráfico de dispersão (Round Trip Time)')\n",
    "  ax.hlines(df_novo[port][\"RTT\"].max(),  xmin=0, xmax=620, colors=\"red\", linestyles=\"dashed\", label=\"Maior Medição\")\n",
    "  ax.hlines(df_novo[port][\"RTT\"].min(),  xmin=0, xmax=620, colors=\"green\", linestyles=\"dashed\", label=\"Menor Medição\")\n",
    "  ax.legend()\n",
    "  i+=1\n"
   ]
  },
  {
   "cell_type": "code",
   "execution_count": 23,
   "metadata": {},
   "outputs": [
    {
     "data": {
      "image/png": "[encoded data removed]",
      "text/plain": [
       "<Figure size 864x432 with 1 Axes>"
      ]
     },
     "metadata": {
      "needs_background": "light"
     },
     "output_type": "display_data"
    }
   ],
   "source": [
    "i=1\n",
    "fig, ax = plt.subplots(figsize=(20,5),dpi=72)\n",
    "for port in ports:\n",
    "  ax = sns.histplot(df_novo[port][\"RTT\"])\n",
    "  ax.figure.set_size_inches(12, 6)\n",
    "  ax.set_title('Distribuição de Frequências', fontsize=20)\n",
    "  ax.set_ylabel('Round Trip Time', fontsize=16)\n",
    "  ax.grid()\n",
    "  i+=1"
   ]
  },
  {
   "cell_type": "markdown",
   "id": "834aa520",
   "metadata": {},
   "source": [
    "# >CÁLCULO DO TAMANHO DA AMOSTRA\n",
    "***\n",
    "## Variáveis quantitativas e população infinita\n",
    "***\n",
    "## Nívéis de confiança e significância \n",
    "O **nível de confiança** ($1 - \\alpha$) representa a probabilidade de acerto da estimativa. De forma complementar o **nível de significância** ($\\alpha$) expressa a probabilidade de erro da estimativa.\n",
    "\n",
    "O **nível de confiança** representa o grau de confiabilidade do resultado da estimativa estar dentro de determinado intervalo. Quando fixamos em uma pesquisa um **nível de confiança** de 95%, por exemplo, estamos assumindo que existe uma probabilidade de 95% dos resultados da pesquisa representarem bem a realidade, ou seja, estarem corretos.\n",
    "\n",
    "O **nível de confiança** de uma estimativa pode ser obtido a partir da área sob a curva normal como ilustrado na figura abaixo.\n",
    "\n",
    "\n",
    "![alt text](https://caelum-online-public.s3.amazonaws.com/1178-estatistica-parte2/01/img007.png)\n",
    "\n",
    "Em nosso trabalho iremos utilizar um nivel de confiança de 95%, logo abaixo iremos calcular o Z.\n",
    "\n",
    "Esta variável $Z$ representa o afastamento em desvios padrões de um valor da variável original em relação à média."
   ]
  },
  {
   "cell_type": "code",
   "execution_count": 12,
   "id": "f4d34346",
   "metadata": {},
   "outputs": [],
   "source": [
    "#variavel nível de significancia\n",
    "nivel_de_significancia = 0.05"
   ]
  },
  {
   "cell_type": "code",
   "execution_count": 13,
   "id": "7b90fe59",
   "metadata": {},
   "outputs": [
    {
     "data": {
      "text/plain": [
       "0.95"
      ]
     },
     "execution_count": 13,
     "metadata": {},
     "output_type": "execute_result"
    }
   ],
   "source": [
    "#Calculando nivel de confiança\n",
    "nivel_de_confiança = 1 - nivel_de_significancia\n",
    "nivel_de_confiança"
   ]
  },
  {
   "cell_type": "code",
   "execution_count": 14,
   "id": "d1513a87",
   "metadata": {},
   "outputs": [
    {
     "data": {
      "text/plain": [
       "1.959963984540054"
      ]
     },
     "execution_count": 14,
     "metadata": {},
     "output_type": "execute_result"
    }
   ],
   "source": [
    "#Calculando o z com scipy\n",
    "z = scipy.stats.norm.ppf(0.975)\n",
    "z"
   ]
  },
  {
   "cell_type": "markdown",
   "id": "036a09cd",
   "metadata": {},
   "source": [
    "Com nosso z calculado podemos seguir adiante\n",
    "\n",
    "### $$z = 1.959963984540054 $$\n",
    "\n",
    "Abaixo segue algumas formulas que iremos utilizar para calcular o numero de amostra\n",
    "\n"
   ]
  },
  {
   "cell_type": "markdown",
   "id": "e0241ecb",
   "metadata": {},
   "source": [
    "## $$n = \\left(z\\frac{s}{e}\\right)^2$$\n",
    "\n",
    "\n",
    "\n",
    "\n",
    "\n",
    "Onde:\n",
    "\n",
    "$z$ = variável normal padronizada\n",
    "\n",
    "$s$ = desvio padrão amostral\n",
    "\n",
    "$e$ = erro inferencial\n",
    "\n",
    "\n",
    "### Calculando a desvio padrão $s$"
   ]
  },
  {
   "cell_type": "code",
   "execution_count": 15,
   "id": "72a3dc03",
   "metadata": {},
   "outputs": [
    {
     "data": {
      "text/plain": [
       "0.6409882996918244"
      ]
     },
     "execution_count": 15,
     "metadata": {},
     "output_type": "execute_result"
    }
   ],
   "source": [
    "# Calculando o desvio padrão do nosso único dispositivo\n",
    "desvio_padrao_amostral = data[37953][\"RTT\"].std()\n",
    "desvio_padrao_amostral"
   ]
  },
  {
   "cell_type": "markdown",
   "id": "32d9b985",
   "metadata": {},
   "source": [
    "### Calculando o Erro"
   ]
  },
  {
   "cell_type": "code",
   "execution_count": 16,
   "id": "11e29c37",
   "metadata": {},
   "outputs": [
    {
     "data": {
      "text/plain": [
       "0.13972899601328367"
      ]
     },
     "execution_count": 16,
     "metadata": {},
     "output_type": "execute_result"
    }
   ],
   "source": [
    "#Calculando o erro da nossa amostra equivalente a 5%\n",
    "\n",
    "media = RTT[\"RTT\"].mean()\n",
    "e = 0.05 * media\n",
    "e"
   ]
  },
  {
   "cell_type": "markdown",
   "id": "5fbb9cf5",
   "metadata": {},
   "source": [
    "### Calculando o tamanho da nossa amostra"
   ]
  },
  {
   "cell_type": "code",
   "execution_count": 17,
   "id": "daf7f1ab",
   "metadata": {},
   "outputs": [
    {
     "data": {
      "text/plain": [
       "80.83944240619886"
      ]
     },
     "execution_count": 17,
     "metadata": {},
     "output_type": "execute_result"
    }
   ],
   "source": [
    "# Substituindo todos os valores na formula para calcular o numero de amostra.\n",
    "n = (z * (desvio_padrao_amostral/e))**2\n",
    "n"
   ]
  }
 ],
 "metadata": {
  "kernelspec": {
   "display_name": "Python 3 (ipykernel)",
   "language": "python",
   "name": "python3"
  },
  "language_info": {
   "codemirror_mode": {
    "name": "ipython",
    "version": 3
   },
   "file_extension": ".py",
   "mimetype": "text/x-python",
   "name": "python",
   "nbconvert_exporter": "python",
   "pygments_lexer": "ipython3",
   "version": "3.10.7"
  }
 },
 "nbformat": 4,
 "nbformat_minor": 5
}
