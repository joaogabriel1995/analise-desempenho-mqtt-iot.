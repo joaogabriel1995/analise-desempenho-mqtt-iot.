{
 "cells": [
  {
   "cell_type": "code",
   "execution_count": 1,
   "id": "134f65e3",
   "metadata": {},
   "outputs": [],
   "source": [
    "import pandas as pd\n",
    "import re\n",
    "import matplotlib.pyplot as plt\n",
    "import scipy\n",
    "import numpy as np"
   ]
  },
  {
   "cell_type": "code",
   "execution_count": 2,
   "id": "f47c21fe",
   "metadata": {},
   "outputs": [],
   "source": [
    "data = pd.read_csv(\"./data.csv\")\n",
    "ports = data[\"Source Port\"].unique()\n",
    "ports = ports[ports !=1883]\n",
    "\n"
   ]
  },
  {
   "cell_type": "code",
   "execution_count": 3,
   "id": "68b8dfc9",
   "metadata": {},
   "outputs": [],
   "source": [
    "devices = {}\n",
    "#  : devices será um dicionario que irá ter uma chave referente ao device e o valor será um dataframe referente aos respectivos devices \n",
    "for port in ports:  \n",
    "  array_publish = data.loc[data[\"Source Port\"] == port].dropna(subset=['Message Identifier'])\n",
    "  array_publish_ack = data.loc[data[\"Destination Port\"] == port].dropna(subset=['Message Identifier'])\n",
    "  device = {\"publish\":array_publish, \"publish_ack\" : array_publish_ack}\n",
    "  devices[port] = device"
   ]
  },
  {
   "cell_type": "code",
   "execution_count": 4,
   "id": "40fdeb08",
   "metadata": {},
   "outputs": [],
   "source": [
    "data = {}\n",
    "for port in ports:\n",
    "    RTT = pd.DataFrame(columns=[\"Time_publish\", \"Time_ack\"])\n",
    "    for index, row in devices[port][\"publish\"].iterrows():\n",
    "        id = int(row[\"Message Identifier\"])\n",
    "        time_publish = row[\"Time\"]\n",
    "        RTT.loc[id, \"Time_publish\"] = time_publish \n",
    "\n",
    "    for index, row in devices[port][\"publish_ack\"].iterrows():\n",
    "        id = int(row[\"Message Identifier\"])\n",
    "        time_publish = row[\"Time\"]\n",
    "        RTT.loc[id, \"Time_ack\"] = time_publish\n",
    "    RTT.loc[id, \"Time_ack\"] = time_publish\n",
    "    RTT[\"RTT\"]  =(RTT[\"Time_ack\"] - RTT[\"Time_publish\"] )* 1000\n",
    "    data[port] = RTT\n"
   ]
  },
  {
   "cell_type": "code",
   "execution_count": 5,
   "id": "0ceacb13",
   "metadata": {},
   "outputs": [
    {
     "data": {
      "text/html": [
       "<div>\n",
       "<style scoped>\n",
       "    .dataframe tbody tr th:only-of-type {\n",
       "        vertical-align: middle;\n",
       "    }\n",
       "\n",
       "    .dataframe tbody tr th {\n",
       "        vertical-align: top;\n",
       "    }\n",
       "\n",
       "    .dataframe thead th {\n",
       "        text-align: right;\n",
       "    }\n",
       "</style>\n",
       "<table border=\"1\" class=\"dataframe\">\n",
       "  <thead>\n",
       "    <tr style=\"text-align: right;\">\n",
       "      <th></th>\n",
       "      <th>Time_publish</th>\n",
       "      <th>Time_ack</th>\n",
       "      <th>RTT</th>\n",
       "    </tr>\n",
       "  </thead>\n",
       "  <tbody>\n",
       "    <tr>\n",
       "      <th>1</th>\n",
       "      <td>26.023436</td>\n",
       "      <td>26.02622</td>\n",
       "      <td>2.783157</td>\n",
       "    </tr>\n",
       "    <tr>\n",
       "      <th>2</th>\n",
       "      <td>27.028577</td>\n",
       "      <td>27.031372</td>\n",
       "      <td>2.794709</td>\n",
       "    </tr>\n",
       "    <tr>\n",
       "      <th>3</th>\n",
       "      <td>28.03388</td>\n",
       "      <td>28.036672</td>\n",
       "      <td>2.791512</td>\n",
       "    </tr>\n",
       "    <tr>\n",
       "      <th>4</th>\n",
       "      <td>29.038713</td>\n",
       "      <td>29.041347</td>\n",
       "      <td>2.633264</td>\n",
       "    </tr>\n",
       "    <tr>\n",
       "      <th>5</th>\n",
       "      <td>30.042765</td>\n",
       "      <td>30.045957</td>\n",
       "      <td>3.192541</td>\n",
       "    </tr>\n",
       "  </tbody>\n",
       "</table>\n",
       "</div>"
      ],
      "text/plain": [
       "  Time_publish   Time_ack       RTT\n",
       "1    26.023436   26.02622  2.783157\n",
       "2    27.028577  27.031372  2.794709\n",
       "3     28.03388  28.036672  2.791512\n",
       "4    29.038713  29.041347  2.633264\n",
       "5    30.042765  30.045957  3.192541"
      ]
     },
     "execution_count": 5,
     "metadata": {},
     "output_type": "execute_result"
    }
   ],
   "source": [
    "data[37953].head()"
   ]
  },
  {
   "cell_type": "markdown",
   "id": "c3c46f2a",
   "metadata": {},
   "source": [
    "## Medidas de Tendência Central Por Device"
   ]
  },
  {
   "cell_type": "code",
   "execution_count": 6,
   "id": "fab98b67",
   "metadata": {},
   "outputs": [
    {
     "name": "stdout",
     "output_type": "stream",
     "text": [
      "(Device-1)Mean Round Trip Time = 2.794579920265673\n",
      "(Device-1)Median Round Trip Time = 2.6867750000008073\n",
      "(Device-1)Standard deviation  Round Trip Time = 0.6409882996918244\n",
      "(Device-1)Min Round Trip Time = 2.37513999991279\n",
      "(Device-1)Max Round Trip Time = 12.155039000049328\n",
      "---------------------------------------------------------------\n"
     ]
    }
   ],
   "source": [
    "i=1\n",
    "data_mean = []\n",
    "data_median = []\n",
    "data_std = []\n",
    "data_min = []\n",
    "data_max = []\n",
    "\n",
    "for port in ports:\n",
    "  data_mean.append(data[port][\"RTT\"].mean())\n",
    "  data_median.append(data[port][\"RTT\"].mean())\n",
    "  data_std.append(data[port][\"RTT\"].mean())\n",
    "  data_min.append(data[port][\"RTT\"].mean())\n",
    "  data_max.append(data[port][\"RTT\"].mean())\n",
    "\n",
    "  print(\"(Device-{})Mean Round Trip Time = {}\".format(i ,data[port][\"RTT\"].mean()))\n",
    "  print(\"(Device-{})Median Round Trip Time = {}\".format(i ,data[port][\"RTT\"].median()))\n",
    "  print(\"(Device-{})Standard deviation  Round Trip Time = {}\".format(i ,data[port][\"RTT\"].std()))\n",
    "  print(\"(Device-{})Min Round Trip Time = {}\".format(i ,data[port][\"RTT\"].min()))\n",
    "  print(\"(Device-{})Max Round Trip Time = {}\".format(i ,data[port][\"RTT\"].max()))\n",
    "  print(\"---------------------------------------------------------------\")\n",
    "\n",
    "  i+=1"
   ]
  },
  {
   "cell_type": "markdown",
   "id": "286828a0",
   "metadata": {},
   "source": [
    "## Medidas de Tendência Central Geral"
   ]
  },
  {
   "cell_type": "code",
   "execution_count": 7,
   "id": "3477398d",
   "metadata": {},
   "outputs": [
    {
     "name": "stdout",
     "output_type": "stream",
     "text": [
      "Mean Round Trip Time = 2.794579920265673\n",
      "Median Round Trip Time = 2.794579920265673\n",
      "Standard deviation  Round Trip Time = 2.794579920265673\n",
      "Min Round Trip Time = 2.794579920265673\n",
      "Max Round Trip Time = 2.794579920265673\n"
     ]
    }
   ],
   "source": [
    "from statistics import mean \n",
    "\n",
    "print(\"Mean Round Trip Time = {}\".format(mean(data_mean)))\n",
    "print(\"Median Round Trip Time = {}\".format(mean(data_median)))\n",
    "print(\"Standard deviation  Round Trip Time = {}\".format(mean(data_std)))\n",
    "print(\"Min Round Trip Time = {}\".format(mean(data_min)))\n",
    "print(\"Max Round Trip Time = {}\".format(mean(data_max)))\n"
   ]
  },
  {
   "cell_type": "code",
   "execution_count": 39,
   "id": "023878d1",
   "metadata": {},
   "outputs": [
    {
     "data": {
      "image/png": "[encoded data removed]",
      "text/plain": [
       "<Figure size 720x360 with 1 Axes>"
      ]
     },
     "metadata": {
      "needs_background": "light"
     },
     "output_type": "display_data"
    }
   ],
   "source": [
    "import matplotlib \n",
    "# matplotlib.rc('xtick', labelsize=20) \n",
    "# matplotlib.rc('ytick', labelsize=20) \n",
    "# matplotlib.rcParams.update({'font.size': 15})\n",
    "\n",
    "\n",
    "i=1\n",
    "fig, ax = plt.subplots(figsize=(10,5),dpi=72)\n",
    "for port in ports:\n",
    "  ax.scatter(data[port][\"RTT\"].index,data[port][\"RTT\"], label='Dispositivo-{}'.format(i))\n",
    "  ax.set_ylabel('Round Trip Time (ms)')\n",
    "  ax.set_xlabel('Quantidade de Publicação')\n",
    "  ax.set_title('Gráfico de dispersão (Round Trip Time)')\n",
    "  ax.hlines(data[port][\"RTT\"].max(),  xmin=0, xmax=620, colors=\"red\", linestyles=\"dashed\", label=\"Maior Medição\")\n",
    "  ax.hlines(data[port][\"RTT\"].min(),  xmin=0, xmax=620, colors=\"green\", linestyles=\"dashed\", label=\"Menor Medição\")\n",
    "  ax.legend()\n",
    "\n",
    "  i+=1\n"
   ]
  },
  {
   "cell_type": "markdown",
   "id": "834aa520",
   "metadata": {},
   "source": [
    "# <font color=green>CÁLCULO DO TAMANHO DA AMOSTRA</font>\n",
    "***\n",
    "## <font color=green>Variáveis quantitativas e população infinita</font>\n",
    "***\n",
    "## Nívéis de confiança e significância \n",
    "O **nível de confiança** ($1 - \\alpha$) representa a probabilidade de acerto da estimativa. De forma complementar o **nível de significância** ($\\alpha$) expressa a probabilidade de erro da estimativa.\n",
    "\n",
    "O **nível de confiança** representa o grau de confiabilidade do resultado da estimativa estar dentro de determinado intervalo. Quando fixamos em uma pesquisa um **nível de confiança** de 95%, por exemplo, estamos assumindo que existe uma probabilidade de 95% dos resultados da pesquisa representarem bem a realidade, ou seja, estarem corretos.\n",
    "\n",
    "O **nível de confiança** de uma estimativa pode ser obtido a partir da área sob a curva normal como ilustrado na figura abaixo.\n",
    "![alt text](https://caelum-online-public.s3.amazonaws.com/1178-estatistica-parte2/01/img007.png)\n",
    "Em nosso trabalho iremos utilizar um nivel de confiança de 95%, logo abaixo iremos calcular o Z.\n",
    "\n",
    "Esta variável $Z$ representa o afastamento em desvios padrões de um valor da variável original em relação à média."
   ]
  },
  {
   "cell_type": "code",
   "execution_count": 9,
   "id": "f4d34346",
   "metadata": {},
   "outputs": [],
   "source": [
    "nivel_de_significancia = 0.05"
   ]
  },
  {
   "cell_type": "code",
   "execution_count": 10,
   "id": "7b90fe59",
   "metadata": {},
   "outputs": [
    {
     "data": {
      "text/plain": [
       "0.95"
      ]
     },
     "execution_count": 10,
     "metadata": {},
     "output_type": "execute_result"
    }
   ],
   "source": [
    "nivel_de_confiança = 1 - nivel_de_significancia\n",
    "nivel_de_confiança"
   ]
  },
  {
   "cell_type": "code",
   "execution_count": 11,
   "id": "d1513a87",
   "metadata": {},
   "outputs": [
    {
     "data": {
      "text/plain": [
       "1.959963984540054"
      ]
     },
     "execution_count": 11,
     "metadata": {},
     "output_type": "execute_result"
    }
   ],
   "source": [
    "#Calculando o z com scipy\n",
    "z = scipy.stats.norm.ppf(0.975)\n",
    "z"
   ]
  },
  {
   "cell_type": "markdown",
   "id": "036a09cd",
   "metadata": {},
   "source": [
    "Com nosso z calculado podemos seguir adiante\n",
    "\n",
    "### $$z = 1.959963984540054 $$\n",
    "\n",
    "Abaixo segue algumas formulas que iremos utilizar para calcular o numero de amostra\n",
    "\n"
   ]
  },
  {
   "cell_type": "markdown",
   "id": "e0241ecb",
   "metadata": {},
   "source": [
    "## $$n = \\left(z\\frac{s}{e}\\right)^2$$\n",
    "\n",
    "\n",
    "$$e = \\left(e *  \\right)^2$$\n",
    "\n",
    "\n",
    "\n",
    "Onde:\n",
    "\n",
    "$z$ = variável normal padronizada\n",
    "\n",
    "$s$ = desvio padrão amostral\n",
    "\n",
    "$e$ = erro inferencial\n",
    "\n",
    "\n",
    "### Calculando a desvio padrão $s$"
   ]
  },
  {
   "cell_type": "code",
   "execution_count": 12,
   "id": "8a83c520",
   "metadata": {},
   "outputs": [
    {
     "data": {
      "text/plain": [
       "1      2.783157\n",
       "2      2.794709\n",
       "3      2.791512\n",
       "4      2.633264\n",
       "5      3.192541\n",
       "         ...   \n",
       "598    2.775105\n",
       "599    2.614881\n",
       "600    2.577169\n",
       "601    2.625912\n",
       "602    2.772189\n",
       "Name: RTT, Length: 602, dtype: object"
      ]
     },
     "execution_count": 12,
     "metadata": {},
     "output_type": "execute_result"
    }
   ],
   "source": [
    "\n",
    "data[ports[0]][\"RTT\"]"
   ]
  },
  {
   "cell_type": "code",
   "execution_count": 13,
   "id": "72a3dc03",
   "metadata": {},
   "outputs": [
    {
     "data": {
      "text/plain": [
       "0.6409882996918244"
      ]
     },
     "execution_count": 13,
     "metadata": {},
     "output_type": "execute_result"
    }
   ],
   "source": [
    "desvio_padrao_amostral = data[37953][\"RTT\"].std()\n",
    "desvio_padrao_amostral"
   ]
  },
  {
   "cell_type": "markdown",
   "id": "32d9b985",
   "metadata": {},
   "source": [
    "### Calculando o Erro"
   ]
  },
  {
   "cell_type": "code",
   "execution_count": 14,
   "id": "11e29c37",
   "metadata": {},
   "outputs": [
    {
     "data": {
      "text/plain": [
       "0.13972899601328367"
      ]
     },
     "execution_count": 14,
     "metadata": {},
     "output_type": "execute_result"
    }
   ],
   "source": [
    "media = RTT[\"RTT\"].mean()\n",
    "e = 0.05 * media\n",
    "e"
   ]
  },
  {
   "cell_type": "markdown",
   "id": "5fbb9cf5",
   "metadata": {},
   "source": [
    "### Calculando o tamanho da nossa amostra"
   ]
  },
  {
   "cell_type": "code",
   "execution_count": 15,
   "id": "daf7f1ab",
   "metadata": {},
   "outputs": [
    {
     "data": {
      "text/plain": [
       "80.83944240619886"
      ]
     },
     "execution_count": 15,
     "metadata": {},
     "output_type": "execute_result"
    }
   ],
   "source": [
    "n = (z * (desvio_padrao_amostral/e))**2\n",
    "n"
   ]
  }
 ],
 "metadata": {
  "kernelspec": {
   "display_name": "Python 3 (ipykernel)",
   "language": "python",
   "name": "python3"
  },
  "language_info": {
   "codemirror_mode": {
    "name": "ipython",
    "version": 3
   },
   "file_extension": ".py",
   "mimetype": "text/x-python",
   "name": "python",
   "nbconvert_exporter": "python",
   "pygments_lexer": "ipython3",
   "version": "3.10.7"
  }
 },
 "nbformat": 4,
 "nbformat_minor": 5
}
