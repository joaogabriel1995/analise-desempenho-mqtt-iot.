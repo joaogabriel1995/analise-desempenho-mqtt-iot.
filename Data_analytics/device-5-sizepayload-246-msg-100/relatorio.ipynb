{
 "cells": [
  {
   "cell_type": "code",
   "execution_count": 1,
   "id": "134f65e3",
   "metadata": {},
   "outputs": [],
   "source": [
    "import pandas as pd\n",
    "import re\n",
    "import matplotlib.pyplot as plt\n",
    "import scipy\n",
    "import numpy as np"
   ]
  },
  {
   "cell_type": "code",
   "execution_count": 2,
   "id": "f47c21fe",
   "metadata": {},
   "outputs": [
    {
     "data": {
      "text/html": [
       "<div>\n",
       "<style scoped>\n",
       "    .dataframe tbody tr th:only-of-type {\n",
       "        vertical-align: middle;\n",
       "    }\n",
       "\n",
       "    .dataframe tbody tr th {\n",
       "        vertical-align: top;\n",
       "    }\n",
       "\n",
       "    .dataframe thead th {\n",
       "        text-align: right;\n",
       "    }\n",
       "</style>\n",
       "<table border=\"1\" class=\"dataframe\">\n",
       "  <thead>\n",
       "    <tr style=\"text-align: right;\">\n",
       "      <th></th>\n",
       "      <th>No.</th>\n",
       "      <th>Time</th>\n",
       "      <th>Source</th>\n",
       "      <th>Destination</th>\n",
       "      <th>Protocol</th>\n",
       "      <th>Length</th>\n",
       "      <th>Topic</th>\n",
       "      <th>Message Identifier</th>\n",
       "      <th>Source Port</th>\n",
       "      <th>Destination Port</th>\n",
       "      <th>Info</th>\n",
       "    </tr>\n",
       "  </thead>\n",
       "  <tbody>\n",
       "    <tr>\n",
       "      <th>0</th>\n",
       "      <td>284</td>\n",
       "      <td>34.387541</td>\n",
       "      <td>192.168.15.4</td>\n",
       "      <td>192.168.15.3</td>\n",
       "      <td>MQTT</td>\n",
       "      <td>90</td>\n",
       "      <td>NaN</td>\n",
       "      <td>NaN</td>\n",
       "      <td>45295</td>\n",
       "      <td>1883</td>\n",
       "      <td>Connect Command</td>\n",
       "    </tr>\n",
       "    <tr>\n",
       "      <th>1</th>\n",
       "      <td>285</td>\n",
       "      <td>34.389140</td>\n",
       "      <td>192.168.15.4</td>\n",
       "      <td>192.168.15.3</td>\n",
       "      <td>MQTT</td>\n",
       "      <td>90</td>\n",
       "      <td>NaN</td>\n",
       "      <td>NaN</td>\n",
       "      <td>53853</td>\n",
       "      <td>1883</td>\n",
       "      <td>Connect Command</td>\n",
       "    </tr>\n",
       "    <tr>\n",
       "      <th>2</th>\n",
       "      <td>287</td>\n",
       "      <td>34.389833</td>\n",
       "      <td>192.168.15.4</td>\n",
       "      <td>192.168.15.3</td>\n",
       "      <td>MQTT</td>\n",
       "      <td>90</td>\n",
       "      <td>NaN</td>\n",
       "      <td>NaN</td>\n",
       "      <td>51817</td>\n",
       "      <td>1883</td>\n",
       "      <td>Connect Command</td>\n",
       "    </tr>\n",
       "    <tr>\n",
       "      <th>3</th>\n",
       "      <td>288</td>\n",
       "      <td>34.390308</td>\n",
       "      <td>192.168.15.4</td>\n",
       "      <td>192.168.15.3</td>\n",
       "      <td>MQTT</td>\n",
       "      <td>90</td>\n",
       "      <td>NaN</td>\n",
       "      <td>NaN</td>\n",
       "      <td>50551</td>\n",
       "      <td>1883</td>\n",
       "      <td>Connect Command</td>\n",
       "    </tr>\n",
       "    <tr>\n",
       "      <th>4</th>\n",
       "      <td>289</td>\n",
       "      <td>34.390400</td>\n",
       "      <td>192.168.15.3</td>\n",
       "      <td>192.168.15.4</td>\n",
       "      <td>MQTT</td>\n",
       "      <td>70</td>\n",
       "      <td>NaN</td>\n",
       "      <td>NaN</td>\n",
       "      <td>1883</td>\n",
       "      <td>45295</td>\n",
       "      <td>Connect Ack</td>\n",
       "    </tr>\n",
       "    <tr>\n",
       "      <th>...</th>\n",
       "      <td>...</td>\n",
       "      <td>...</td>\n",
       "      <td>...</td>\n",
       "      <td>...</td>\n",
       "      <td>...</td>\n",
       "      <td>...</td>\n",
       "      <td>...</td>\n",
       "      <td>...</td>\n",
       "      <td>...</td>\n",
       "      <td>...</td>\n",
       "      <td>...</td>\n",
       "    </tr>\n",
       "    <tr>\n",
       "      <th>1015</th>\n",
       "      <td>2718</td>\n",
       "      <td>134.026118</td>\n",
       "      <td>192.168.15.3</td>\n",
       "      <td>192.168.15.4</td>\n",
       "      <td>MQTT</td>\n",
       "      <td>70</td>\n",
       "      <td>NaN</td>\n",
       "      <td>100.0</td>\n",
       "      <td>1883</td>\n",
       "      <td>53853</td>\n",
       "      <td>Publish Ack (id=100)</td>\n",
       "    </tr>\n",
       "    <tr>\n",
       "      <th>1016</th>\n",
       "      <td>2720</td>\n",
       "      <td>134.026678</td>\n",
       "      <td>192.168.15.3</td>\n",
       "      <td>192.168.15.4</td>\n",
       "      <td>MQTT</td>\n",
       "      <td>70</td>\n",
       "      <td>NaN</td>\n",
       "      <td>100.0</td>\n",
       "      <td>1883</td>\n",
       "      <td>45295</td>\n",
       "      <td>Publish Ack (id=100)</td>\n",
       "    </tr>\n",
       "    <tr>\n",
       "      <th>1017</th>\n",
       "      <td>2722</td>\n",
       "      <td>134.026678</td>\n",
       "      <td>192.168.15.3</td>\n",
       "      <td>192.168.15.4</td>\n",
       "      <td>MQTT</td>\n",
       "      <td>70</td>\n",
       "      <td>NaN</td>\n",
       "      <td>100.0</td>\n",
       "      <td>1883</td>\n",
       "      <td>41481</td>\n",
       "      <td>Publish Ack (id=100)</td>\n",
       "    </tr>\n",
       "    <tr>\n",
       "      <th>1018</th>\n",
       "      <td>2724</td>\n",
       "      <td>134.026711</td>\n",
       "      <td>192.168.15.3</td>\n",
       "      <td>192.168.15.4</td>\n",
       "      <td>MQTT</td>\n",
       "      <td>70</td>\n",
       "      <td>NaN</td>\n",
       "      <td>100.0</td>\n",
       "      <td>1883</td>\n",
       "      <td>51817</td>\n",
       "      <td>Publish Ack (id=100)</td>\n",
       "    </tr>\n",
       "    <tr>\n",
       "      <th>1019</th>\n",
       "      <td>2726</td>\n",
       "      <td>134.026711</td>\n",
       "      <td>192.168.15.3</td>\n",
       "      <td>192.168.15.4</td>\n",
       "      <td>MQTT</td>\n",
       "      <td>70</td>\n",
       "      <td>NaN</td>\n",
       "      <td>100.0</td>\n",
       "      <td>1883</td>\n",
       "      <td>50551</td>\n",
       "      <td>Publish Ack (id=100)</td>\n",
       "    </tr>\n",
       "  </tbody>\n",
       "</table>\n",
       "<p>1020 rows × 11 columns</p>\n",
       "</div>"
      ],
      "text/plain": [
       "       No.        Time        Source   Destination Protocol  Length Topic  \\\n",
       "0      284   34.387541  192.168.15.4  192.168.15.3     MQTT      90   NaN   \n",
       "1      285   34.389140  192.168.15.4  192.168.15.3     MQTT      90   NaN   \n",
       "2      287   34.389833  192.168.15.4  192.168.15.3     MQTT      90   NaN   \n",
       "3      288   34.390308  192.168.15.4  192.168.15.3     MQTT      90   NaN   \n",
       "4      289   34.390400  192.168.15.3  192.168.15.4     MQTT      70   NaN   \n",
       "...    ...         ...           ...           ...      ...     ...   ...   \n",
       "1015  2718  134.026118  192.168.15.3  192.168.15.4     MQTT      70   NaN   \n",
       "1016  2720  134.026678  192.168.15.3  192.168.15.4     MQTT      70   NaN   \n",
       "1017  2722  134.026678  192.168.15.3  192.168.15.4     MQTT      70   NaN   \n",
       "1018  2724  134.026711  192.168.15.3  192.168.15.4     MQTT      70   NaN   \n",
       "1019  2726  134.026711  192.168.15.3  192.168.15.4     MQTT      70   NaN   \n",
       "\n",
       "      Message Identifier  Source Port  Destination Port                  Info  \n",
       "0                    NaN        45295              1883       Connect Command  \n",
       "1                    NaN        53853              1883       Connect Command  \n",
       "2                    NaN        51817              1883       Connect Command  \n",
       "3                    NaN        50551              1883       Connect Command  \n",
       "4                    NaN         1883             45295           Connect Ack  \n",
       "...                  ...          ...               ...                   ...  \n",
       "1015               100.0         1883             53853  Publish Ack (id=100)  \n",
       "1016               100.0         1883             45295  Publish Ack (id=100)  \n",
       "1017               100.0         1883             41481  Publish Ack (id=100)  \n",
       "1018               100.0         1883             51817  Publish Ack (id=100)  \n",
       "1019               100.0         1883             50551  Publish Ack (id=100)  \n",
       "\n",
       "[1020 rows x 11 columns]"
      ]
     },
     "execution_count": 2,
     "metadata": {},
     "output_type": "execute_result"
    }
   ],
   "source": [
    "data = pd.read_csv(\"./data.csv\")\n",
    "ports = data[\"Source Port\"].unique()\n",
    "ports = ports[ports !=1883]\n",
    "data\n"
   ]
  },
  {
   "cell_type": "code",
   "execution_count": 3,
   "id": "68b8dfc9",
   "metadata": {},
   "outputs": [],
   "source": [
    "devices = {}\n",
    "#  : devices será um dicionario que irá ter uma chave referente ao device e o valor será um dataframe referente aos respectivos devices \n",
    "for port in ports:  \n",
    "  array_publish = data.loc[data[\"Source Port\"] == port].dropna(subset=['Message Identifier'])\n",
    "  array_publish_ack = data.loc[data[\"Destination Port\"] == port].dropna(subset=['Message Identifier'])\n",
    "  device = {\"publish\":array_publish, \"publish_ack\" : array_publish_ack}\n",
    "  devices[port] = device"
   ]
  },
  {
   "cell_type": "code",
   "execution_count": 4,
   "id": "40fdeb08",
   "metadata": {},
   "outputs": [],
   "source": [
    "data = {}\n",
    "for port in ports:\n",
    "    RTT = pd.DataFrame(columns=[\"Time_publish\", \"Time_ack\"])\n",
    "    for index, row in devices[port][\"publish\"].iterrows():\n",
    "        id = int(row[\"Message Identifier\"])\n",
    "        time_publish = row[\"Time\"]\n",
    "        RTT.loc[id, \"Size_Payload\"] = 246 \n",
    "\n",
    "        RTT.loc[id, \"Time_publish\"] = time_publish \n",
    "\n",
    "    for index, row in devices[port][\"publish_ack\"].iterrows():\n",
    "        id = int(row[\"Message Identifier\"])\n",
    "        time_publish = row[\"Time\"]\n",
    "        RTT.loc[id, \"Time_ack\"] = time_publish\n",
    "    RTT.loc[id, \"Time_ack\"] = time_publish\n",
    "    RTT[\"RTT\"]  =(RTT[\"Time_ack\"] - RTT[\"Time_publish\"] )* 1000\n",
    "    data[port] = RTT\n"
   ]
  },
  {
   "cell_type": "markdown",
   "id": "c3c46f2a",
   "metadata": {},
   "source": [
    "## Medidas de Tendência Central Por Device"
   ]
  },
  {
   "cell_type": "code",
   "execution_count": 5,
   "id": "fab98b67",
   "metadata": {},
   "outputs": [
    {
     "name": "stdout",
     "output_type": "stream",
     "text": [
      "(Device-1)Mean Round Trip Time = 2.8735761799997306\n",
      "(Device-1)Median Round Trip Time = 2.80626749999513\n",
      "(Device-1)Standard deviation  Round Trip Time = 0.7397013895275015\n",
      "(Device-1)Min Round Trip Time = 1.5871860000231663\n",
      "(Device-1)Max Round Trip Time = 9.174368999993021\n",
      "---------------------------------------------------------------\n",
      "(Device-2)Mean Round Trip Time = 2.91897285999994\n",
      "(Device-2)Median Round Trip Time = 2.8107860000083917\n",
      "(Device-2)Standard deviation  Round Trip Time = 0.7377753990284032\n",
      "(Device-2)Min Round Trip Time = 1.5128349999997681\n",
      "(Device-2)Max Round Trip Time = 8.768222999975706\n",
      "---------------------------------------------------------------\n",
      "(Device-3)Mean Round Trip Time = 2.834072150000111\n",
      "(Device-3)Median Round Trip Time = 2.8189165000007677\n",
      "(Device-3)Standard deviation  Round Trip Time = 0.5373536953068079\n",
      "(Device-3)Min Round Trip Time = 1.6353270000024622\n",
      "(Device-3)Max Round Trip Time = 6.927015999991681\n",
      "---------------------------------------------------------------\n",
      "(Device-4)Mean Round Trip Time = 2.847359400000329\n",
      "(Device-4)Median Round Trip Time = 2.8887934999985987\n",
      "(Device-4)Standard deviation  Round Trip Time = 0.5852438839732498\n",
      "(Device-4)Min Round Trip Time = 1.4813960000026327\n",
      "(Device-4)Max Round Trip Time = 6.8011289999958535\n",
      "---------------------------------------------------------------\n",
      "(Device-5)Mean Round Trip Time = 2.852330659999467\n",
      "(Device-5)Median Round Trip Time = 2.823715499985724\n",
      "(Device-5)Standard deviation  Round Trip Time = 0.5330115743123204\n",
      "(Device-5)Min Round Trip Time = 1.722571999998479\n",
      "(Device-5)Max Round Trip Time = 7.034520000019029\n",
      "---------------------------------------------------------------\n"
     ]
    }
   ],
   "source": [
    "i=1\n",
    "data_mean = []\n",
    "data_median = []\n",
    "data_std = []\n",
    "data_min = []\n",
    "data_max = []\n",
    "\n",
    "for port in ports:\n",
    "  data_mean.append(data[port][\"RTT\"].mean())\n",
    "  data_median.append(data[port][\"RTT\"].mean())\n",
    "  data_std.append(data[port][\"RTT\"].mean())\n",
    "  data_min.append(data[port][\"RTT\"].mean())\n",
    "  data_max.append(data[port][\"RTT\"].mean())\n",
    "\n",
    "  print(\"(Device-{})Mean Round Trip Time = {}\".format(i ,data[port][\"RTT\"].mean()))\n",
    "  print(\"(Device-{})Median Round Trip Time = {}\".format(i ,data[port][\"RTT\"].median()))\n",
    "  print(\"(Device-{})Standard deviation  Round Trip Time = {}\".format(i ,data[port][\"RTT\"].std()))\n",
    "  print(\"(Device-{})Min Round Trip Time = {}\".format(i ,data[port][\"RTT\"].min()))\n",
    "  print(\"(Device-{})Max Round Trip Time = {}\".format(i ,data[port][\"RTT\"].max()))\n",
    "  print(\"---------------------------------------------------------------\")\n",
    "\n",
    "  i+=1"
   ]
  },
  {
   "cell_type": "markdown",
   "id": "286828a0",
   "metadata": {},
   "source": [
    "## Medidas de Tendência Central Geral"
   ]
  },
  {
   "cell_type": "code",
   "execution_count": 6,
   "id": "3477398d",
   "metadata": {},
   "outputs": [
    {
     "name": "stdout",
     "output_type": "stream",
     "text": [
      "Mean Round Trip Time = 2.8652622499999154\n",
      "Median Round Trip Time = 2.8652622499999154\n",
      "Standard deviation  Round Trip Time = 2.8652622499999154\n",
      "Min Round Trip Time = 2.8652622499999154\n",
      "Max Round Trip Time = 2.8652622499999154\n"
     ]
    }
   ],
   "source": [
    "from statistics import mean \n",
    "\n",
    "print(\"Mean Round Trip Time = {}\".format(mean(data_mean)))\n",
    "print(\"Median Round Trip Time = {}\".format(mean(data_median)))\n",
    "print(\"Standard deviation  Round Trip Time = {}\".format(mean(data_std)))\n",
    "print(\"Min Round Trip Time = {}\".format(mean(data_min)))\n",
    "print(\"Max Round Trip Time = {}\".format(mean(data_max)))\n"
   ]
  },
  {
   "cell_type": "code",
   "execution_count": 31,
   "id": "d42eb4ac",
   "metadata": {},
   "outputs": [
    {
     "data": {
      "text/plain": [
       "<matplotlib.legend.Legend at 0x7f470c546770>"
      ]
     },
     "execution_count": 31,
     "metadata": {},
     "output_type": "execute_result"
    },
    {
     "data": {
      "image/png": "[encoded data removed]",
      "text/plain": [
       "<Figure size 1440x216 with 1 Axes>"
      ]
     },
     "metadata": {
      "needs_background": "light"
     },
     "output_type": "display_data"
    }
   ],
   "source": [
    "i=1\n",
    "fig, ax = plt.subplots(figsize=(20,3),dpi=72)\n",
    "for port in ports:\n",
    "  data_mean.append(data[port][\"RTT\"].mean())\n",
    "  ax.scatter(data[port][\"RTT\"].index,data[port][\"RTT\"], label='device-{}'.format(i))\n",
    "  i+=1\n",
    "ax.hlines(mean(data_mean), xmax=100, xmin=0, linestyles=\"dashed\", color=\"black\" ,label='média-{} ms'.format(round(mean(data_mean),2)))\n",
    "ax.legend()\n",
    "\n",
    "\n"
   ]
  },
  {
   "cell_type": "code",
   "execution_count": 18,
   "id": "a1d2b360",
   "metadata": {},
   "outputs": [
    {
     "name": "stdout",
     "output_type": "stream",
     "text": [
      "Nossa nova média é 2.8515312976188634\n",
      "Nossa média antiga era 2.8735761799997306\n",
      "Foram eliminados o total de 16 outliers\n",
      "Nossa nova média é 2.8330199651165344\n",
      "Nossa média antiga era 2.91897285999994\n",
      "Foram eliminados o total de 14 outliers\n",
      "Nossa nova média é 2.8582553804350583\n",
      "Nossa média antiga era 2.834072150000111\n",
      "Foram eliminados o total de 8 outliers\n",
      "Nossa nova média é 2.9002799518071543\n",
      "Nossa média antiga era 2.847359400000329\n",
      "Foram eliminados o total de 17 outliers\n",
      "Nossa nova média é 2.830542511362792\n",
      "Nossa média antiga era 2.852330659999467\n",
      "Foram eliminados o total de 12 outliers\n"
     ]
    }
   ],
   "source": [
    "## Analisando outliers\n",
    "df_novo = {}\n",
    "for port in ports:\n",
    "  data[port]\n",
    "  q3, q1 = np.percentile(data[port][\"RTT\"], [75, 25])\n",
    "  interquartil = q3 - q1\n",
    "  limite_superior =q3 + 1.5 * interquartil\n",
    "  limite_inferior = q1 - 1.5 * interquartil \n",
    "  df_novo[port] = data[port].loc[((data[port][\"RTT\"]>limite_inferior) & (data[port][\"RTT\"]<limite_superior))]\n",
    "  dados_excluidos = data[port][\"RTT\"].shape[0] - len(df_novo[port])\n",
    "\n",
    "  print(\"Nossa nova média é {}\" .format(np.mean(df_novo[port][\"RTT\"])))\n",
    "  print(\"Nossa média antiga era {}\" .format(np.mean(data[port][\"RTT\"])))\n",
    "  print(\"Foram eliminados o total de {} outliers\"  .format(dados_excluidos))\n",
    "  media =np.mean(df_novo[port][\"RTT\"])\n",
    "\n"
   ]
  },
  {
   "cell_type": "code",
   "execution_count": 36,
   "id": "57ffb8ab",
   "metadata": {},
   "outputs": [
    {
     "data": {
      "text/plain": [
       "<matplotlib.legend.Legend at 0x7f470c37eda0>"
      ]
     },
     "execution_count": 36,
     "metadata": {},
     "output_type": "execute_result"
    },
    {
     "data": {
      "image/png": "[encoded data removed]",
      "text/plain": [
       "<Figure size 1440x360 with 1 Axes>"
      ]
     },
     "metadata": {
      "needs_background": "light"
     },
     "output_type": "display_data"
    }
   ],
   "source": [
    "i=1\n",
    "data_mean_outlier = []\n",
    "fig, ax = plt.subplots(figsize=(20,5),dpi=72)\n",
    "for port in ports:\n",
    "  data_mean_outlier.append(df_novo[port][\"RTT\"].mean())\n",
    "\n",
    "  ax.scatter(df_novo[port][\"RTT\"].index,df_novo[port][\"RTT\"], label='device-{}'.format(i))\n",
    "  i+=1\n",
    "\n",
    "ax.hlines(mean(data_mean), xmax=100, xmin=0, linestyles=\"dashed\", color=\"black\" ,label='média-{} ms'.format(round(mean(data_mean_outlier),2)))\n",
    "ax.legend()"
   ]
  },
  {
   "cell_type": "code",
   "execution_count": 8,
   "id": "76703970",
   "metadata": {},
   "outputs": [],
   "source": [
    "t = 0\n",
    "regressao = pd.DataFrame()\n",
    "for key, value in data.items():\n",
    "  regressao = pd.concat([regressao,value])\n",
    "\n",
    "regressao.reset_index()\n",
    "regressao.to_csv(\"regressao-5-246-100.csv\",index=False)"
   ]
  },
  {
   "cell_type": "code",
   "execution_count": null,
   "id": "35302a0b",
   "metadata": {},
   "outputs": [],
   "source": []
  }
 ],
 "metadata": {
  "kernelspec": {
   "display_name": "Python 3 (ipykernel)",
   "language": "python",
   "name": "python3"
  },
  "language_info": {
   "codemirror_mode": {
    "name": "ipython",
    "version": 3
   },
   "file_extension": ".py",
   "mimetype": "text/x-python",
   "name": "python",
   "nbconvert_exporter": "python",
   "pygments_lexer": "ipython3",
   "version": "3.10.7"
  }
 },
 "nbformat": 4,
 "nbformat_minor": 5
}
