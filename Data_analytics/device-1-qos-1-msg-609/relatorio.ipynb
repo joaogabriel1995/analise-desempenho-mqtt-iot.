{
 "cells": [
  {
   "cell_type": "code",
   "execution_count": null,
   "id": "134f65e3",
   "metadata": {},
   "outputs": [
    {
     "ename": "",
     "evalue": "",
     "output_type": "error",
     "traceback": [
      "\u001b[1;31mRunning cells with 'Python 3.10.5 ('venv': venv)' requires ipykernel package.\n",
      "Run the following command to install 'ipykernel' into the Python environment. \n",
      "Command: '/home/joao/Desenvolvimento/tcc/docker/Locust/venv/bin/python -m pip install ipykernel -U --force-reinstall'"
     ]
    }
   ],
   "source": [
    "import pandas as pd\n",
    "import re\n",
    "import matplotlib.pyplot as plt\n",
    "import scipy\n",
    "import numpy as np"
   ]
  },
  {
   "cell_type": "code",
   "execution_count": 18,
   "id": "f47c21fe",
   "metadata": {},
   "outputs": [
    {
     "data": {
      "text/html": [
       "<div>\n",
       "<style scoped>\n",
       "    .dataframe tbody tr th:only-of-type {\n",
       "        vertical-align: middle;\n",
       "    }\n",
       "\n",
       "    .dataframe tbody tr th {\n",
       "        vertical-align: top;\n",
       "    }\n",
       "\n",
       "    .dataframe thead th {\n",
       "        text-align: right;\n",
       "    }\n",
       "</style>\n",
       "<table border=\"1\" class=\"dataframe\">\n",
       "  <thead>\n",
       "    <tr style=\"text-align: right;\">\n",
       "      <th></th>\n",
       "      <th>No.</th>\n",
       "      <th>Time</th>\n",
       "      <th>Source</th>\n",
       "      <th>Destination</th>\n",
       "      <th>Protocol</th>\n",
       "      <th>Length</th>\n",
       "      <th>Info</th>\n",
       "    </tr>\n",
       "  </thead>\n",
       "  <tbody>\n",
       "    <tr>\n",
       "      <th>0</th>\n",
       "      <td>164</td>\n",
       "      <td>6.773387</td>\n",
       "      <td>192.168.15.4</td>\n",
       "      <td>192.168.15.3</td>\n",
       "      <td>MQTT</td>\n",
       "      <td>90</td>\n",
       "      <td>Connect Command</td>\n",
       "    </tr>\n",
       "    <tr>\n",
       "      <th>1</th>\n",
       "      <td>165</td>\n",
       "      <td>6.773478</td>\n",
       "      <td>192.168.15.4</td>\n",
       "      <td>192.168.15.3</td>\n",
       "      <td>MQTT</td>\n",
       "      <td>68</td>\n",
       "      <td>Disconnect Req</td>\n",
       "    </tr>\n",
       "    <tr>\n",
       "      <th>2</th>\n",
       "      <td>170</td>\n",
       "      <td>6.776184</td>\n",
       "      <td>192.168.15.4</td>\n",
       "      <td>192.168.15.3</td>\n",
       "      <td>MQTT</td>\n",
       "      <td>90</td>\n",
       "      <td>Connect Command</td>\n",
       "    </tr>\n",
       "    <tr>\n",
       "      <th>3</th>\n",
       "      <td>171</td>\n",
       "      <td>6.776305</td>\n",
       "      <td>192.168.15.3</td>\n",
       "      <td>192.168.15.4</td>\n",
       "      <td>MQTT</td>\n",
       "      <td>70</td>\n",
       "      <td>Connect Ack</td>\n",
       "    </tr>\n",
       "    <tr>\n",
       "      <th>4</th>\n",
       "      <td>176</td>\n",
       "      <td>6.778768</td>\n",
       "      <td>192.168.15.4</td>\n",
       "      <td>192.168.15.3</td>\n",
       "      <td>MQTT</td>\n",
       "      <td>171</td>\n",
       "      <td>Publish Message (id=1) [Deviceb'Device - 1']</td>\n",
       "    </tr>\n",
       "    <tr>\n",
       "      <th>...</th>\n",
       "      <td>...</td>\n",
       "      <td>...</td>\n",
       "      <td>...</td>\n",
       "      <td>...</td>\n",
       "      <td>...</td>\n",
       "      <td>...</td>\n",
       "      <td>...</td>\n",
       "    </tr>\n",
       "    <tr>\n",
       "      <th>3065</th>\n",
       "      <td>14668</td>\n",
       "      <td>640.452263</td>\n",
       "      <td>192.168.15.3</td>\n",
       "      <td>192.168.15.4</td>\n",
       "      <td>MQTT</td>\n",
       "      <td>70</td>\n",
       "      <td>Connect Ack</td>\n",
       "    </tr>\n",
       "    <tr>\n",
       "      <th>3066</th>\n",
       "      <td>14671</td>\n",
       "      <td>640.454599</td>\n",
       "      <td>192.168.15.3</td>\n",
       "      <td>192.168.15.4</td>\n",
       "      <td>MQTT</td>\n",
       "      <td>70</td>\n",
       "      <td>Publish Ack (id=609)</td>\n",
       "    </tr>\n",
       "    <tr>\n",
       "      <th>3067</th>\n",
       "      <td>14673</td>\n",
       "      <td>640.455079</td>\n",
       "      <td>192.168.15.4</td>\n",
       "      <td>192.168.15.3</td>\n",
       "      <td>MQTT</td>\n",
       "      <td>68</td>\n",
       "      <td>Disconnect Req</td>\n",
       "    </tr>\n",
       "    <tr>\n",
       "      <th>3068</th>\n",
       "      <td>15099</td>\n",
       "      <td>696.933512</td>\n",
       "      <td>192.168.15.4</td>\n",
       "      <td>192.168.15.3</td>\n",
       "      <td>MQTT</td>\n",
       "      <td>68</td>\n",
       "      <td>Ping Request</td>\n",
       "    </tr>\n",
       "    <tr>\n",
       "      <th>3069</th>\n",
       "      <td>15100</td>\n",
       "      <td>696.936434</td>\n",
       "      <td>192.168.15.3</td>\n",
       "      <td>192.168.15.4</td>\n",
       "      <td>MQTT</td>\n",
       "      <td>68</td>\n",
       "      <td>Ping Response</td>\n",
       "    </tr>\n",
       "  </tbody>\n",
       "</table>\n",
       "<p>3070 rows × 7 columns</p>\n",
       "</div>"
      ],
      "text/plain": [
       "        No.        Time        Source   Destination Protocol  Length  \\\n",
       "0       164    6.773387  192.168.15.4  192.168.15.3     MQTT      90   \n",
       "1       165    6.773478  192.168.15.4  192.168.15.3     MQTT      68   \n",
       "2       170    6.776184  192.168.15.4  192.168.15.3     MQTT      90   \n",
       "3       171    6.776305  192.168.15.3  192.168.15.4     MQTT      70   \n",
       "4       176    6.778768  192.168.15.4  192.168.15.3     MQTT     171   \n",
       "...     ...         ...           ...           ...      ...     ...   \n",
       "3065  14668  640.452263  192.168.15.3  192.168.15.4     MQTT      70   \n",
       "3066  14671  640.454599  192.168.15.3  192.168.15.4     MQTT      70   \n",
       "3067  14673  640.455079  192.168.15.4  192.168.15.3     MQTT      68   \n",
       "3068  15099  696.933512  192.168.15.4  192.168.15.3     MQTT      68   \n",
       "3069  15100  696.936434  192.168.15.3  192.168.15.4     MQTT      68   \n",
       "\n",
       "                                              Info  \n",
       "0                                  Connect Command  \n",
       "1                                   Disconnect Req  \n",
       "2                                  Connect Command  \n",
       "3                                      Connect Ack  \n",
       "4     Publish Message (id=1) [Deviceb'Device - 1']  \n",
       "...                                            ...  \n",
       "3065                                   Connect Ack  \n",
       "3066                          Publish Ack (id=609)  \n",
       "3067                                Disconnect Req  \n",
       "3068                                  Ping Request  \n",
       "3069                                 Ping Response  \n",
       "\n",
       "[3070 rows x 7 columns]"
      ]
     },
     "execution_count": 18,
     "metadata": {},
     "output_type": "execute_result"
    }
   ],
   "source": [
    "data = pd.read_csv(\"./amostra_piloto.csv\")\n",
    "data"
   ]
  },
  {
   "cell_type": "code",
   "execution_count": 3,
   "id": "6c2e15df",
   "metadata": {},
   "outputs": [],
   "source": [
    "array_publish = []\n",
    "array_publish_ack = []\n",
    "\n",
    "for i in range(len(data)):\n",
    "    if re.search(\"Publish Message\", data.loc[i, \"Info\"]):\n",
    "        array_publish.append(i)\n",
    "    if re.search(\"Publish Ack \", data.loc[i, \"Info\"]):\n",
    "        array_publish_ack.append(i)\n"
   ]
  },
  {
   "cell_type": "code",
   "execution_count": 21,
   "id": "40fdeb08",
   "metadata": {},
   "outputs": [],
   "source": [
    "RTT = pd.DataFrame(columns=[\"Time_publish\", \"Time_ack\"])\n",
    "for i in array_publish:\n",
    "    init = re.search(\"id=\", data.loc[i, \"Info\"]).span()[1]\n",
    "    end = re.search(\"\\)\", data.loc[i, \"Info\"]).span()[0]\n",
    "    index = data.loc[i, \"Info\"][init:end]\n",
    "    RTT.loc[index,\"Time_publish\"]  = float(data.loc[i, \"Time\"])\n",
    "    \n",
    "\n",
    "for i in array_publish_ack:\n",
    "    init = re.search(\"id=\", data.loc[i, \"Info\"]).span()[1]\n",
    "    end = re.search(\"\\)\", data.loc[i, \"Info\"]).span()[0]\n",
    "    index = data.loc[i, \"Info\"][init:end]\n",
    "    RTT.loc[index,\"Time_ack\"]  = float(data.loc[i, \"Time\"])\n"
   ]
  },
  {
   "cell_type": "code",
   "execution_count": 22,
   "id": "2af44ebc",
   "metadata": {},
   "outputs": [],
   "source": [
    "RTT[\"RTT\"]  =(RTT[\"Time_ack\"] - RTT[\"Time_publish\"] )* 1000"
   ]
  },
  {
   "cell_type": "code",
   "execution_count": 24,
   "id": "eee923b0",
   "metadata": {},
   "outputs": [
    {
     "data": {
      "text/html": [
       "<div>\n",
       "<style scoped>\n",
       "    .dataframe tbody tr th:only-of-type {\n",
       "        vertical-align: middle;\n",
       "    }\n",
       "\n",
       "    .dataframe tbody tr th {\n",
       "        vertical-align: top;\n",
       "    }\n",
       "\n",
       "    .dataframe thead th {\n",
       "        text-align: right;\n",
       "    }\n",
       "</style>\n",
       "<table border=\"1\" class=\"dataframe\">\n",
       "  <thead>\n",
       "    <tr style=\"text-align: right;\">\n",
       "      <th></th>\n",
       "      <th>Time_publish</th>\n",
       "      <th>Time_ack</th>\n",
       "      <th>RTT</th>\n",
       "    </tr>\n",
       "  </thead>\n",
       "  <tbody>\n",
       "    <tr>\n",
       "      <th>1</th>\n",
       "      <td>6.778768</td>\n",
       "      <td>6.781292</td>\n",
       "      <td>2.523318</td>\n",
       "    </tr>\n",
       "    <tr>\n",
       "      <th>2</th>\n",
       "      <td>7.78846</td>\n",
       "      <td>7.790911</td>\n",
       "      <td>2.450871</td>\n",
       "    </tr>\n",
       "    <tr>\n",
       "      <th>3</th>\n",
       "      <td>8.798941</td>\n",
       "      <td>8.801384</td>\n",
       "      <td>2.443157</td>\n",
       "    </tr>\n",
       "    <tr>\n",
       "      <th>4</th>\n",
       "      <td>9.809386</td>\n",
       "      <td>9.81185</td>\n",
       "      <td>2.464106</td>\n",
       "    </tr>\n",
       "    <tr>\n",
       "      <th>5</th>\n",
       "      <td>10.828649</td>\n",
       "      <td>10.840241</td>\n",
       "      <td>11.592292</td>\n",
       "    </tr>\n",
       "  </tbody>\n",
       "</table>\n",
       "</div>"
      ],
      "text/plain": [
       "  Time_publish   Time_ack        RTT\n",
       "1     6.778768   6.781292   2.523318\n",
       "2      7.78846   7.790911   2.450871\n",
       "3     8.798941   8.801384   2.443157\n",
       "4     9.809386    9.81185   2.464106\n",
       "5    10.828649  10.840241  11.592292"
      ]
     },
     "execution_count": 24,
     "metadata": {},
     "output_type": "execute_result"
    }
   ],
   "source": [
    "RTT.head(5)"
   ]
  },
  {
   "cell_type": "code",
   "execution_count": 6,
   "id": "15b2e927",
   "metadata": {},
   "outputs": [
    {
     "name": "stdout",
     "output_type": "stream",
     "text": [
      "média = 4.568722435137397\n",
      "mediana = 2.90858500000013\n",
      "máximo = 223.12551000004532\n",
      "minimo = 1.5643510000131755\n",
      "25% = 2.775453000026573\n",
      "50% = 2.90858500000013\n",
      "75% = 5.5885379999836005\n",
      "90% = 6.870821399979832\n",
      "95% = 8.621210399996926\n",
      "99% = 14.799397240020642\n",
      "std = 9.329458861571394\n"
     ]
    }
   ],
   "source": [
    "print(\"média = {}\".format(RTT[\"RTT\"].mean()))\n",
    "print(\"mediana = {}\".format(RTT[\"RTT\"].median()))\n",
    "print(\"máximo = {}\".format(RTT[\"RTT\"].max()))\n",
    "print(\"minimo = {}\".format(RTT[\"RTT\"].min()))\n",
    "print(\"25% = {}\".format(RTT[\"RTT\"].quantile(0.25)))\n",
    "print(\"50% = {}\".format(RTT[\"RTT\"].quantile()))\n",
    "print(\"75% = {}\".format(RTT[\"RTT\"].quantile(0.75)))\n",
    "print(\"90% = {}\".format(RTT[\"RTT\"].quantile(0.90)))\n",
    "print(\"95% = {}\".format(RTT[\"RTT\"].quantile(0.95)))\n",
    "print(\"99% = {}\".format(RTT[\"RTT\"].quantile(0.99)))\n",
    "print(\"std = {}\".format(RTT[\"RTT\"].std()))"
   ]
  },
  {
   "cell_type": "code",
   "execution_count": 7,
   "id": "9bad454c",
   "metadata": {},
   "outputs": [
    {
     "data": {
      "image/png": "[encoded data removed]",
      "text/plain": [
       "<Figure size 432x288 with 1 Axes>"
      ]
     },
     "metadata": {
      "needs_background": "light"
     },
     "output_type": "display_data"
    }
   ],
   "source": [
    "RTT[\"RTT\"].loc[RTT[\"RTT\"]>=8]\n",
    "fig, ax=plt.subplots()\n",
    "ax.hist(x=RTT[\"RTT\"].loc[RTT[\"RTT\"]<=14.799397240020642], bins=25)\n",
    "ax.grid();"
   ]
  },
  {
   "cell_type": "code",
   "execution_count": 8,
   "id": "467d0751",
   "metadata": {},
   "outputs": [
    {
     "data": {
      "text/html": [
       "<div>\n",
       "<style scoped>\n",
       "    .dataframe tbody tr th:only-of-type {\n",
       "        vertical-align: middle;\n",
       "    }\n",
       "\n",
       "    .dataframe tbody tr th {\n",
       "        vertical-align: top;\n",
       "    }\n",
       "\n",
       "    .dataframe thead th {\n",
       "        text-align: right;\n",
       "    }\n",
       "</style>\n",
       "<table border=\"1\" class=\"dataframe\">\n",
       "  <thead>\n",
       "    <tr style=\"text-align: right;\">\n",
       "      <th></th>\n",
       "      <th>Time_publish</th>\n",
       "      <th>Time_ack</th>\n",
       "      <th>RTT</th>\n",
       "    </tr>\n",
       "  </thead>\n",
       "  <tbody>\n",
       "    <tr>\n",
       "      <th>1</th>\n",
       "      <td>6.778768</td>\n",
       "      <td>6.781292</td>\n",
       "      <td>2.523318</td>\n",
       "    </tr>\n",
       "    <tr>\n",
       "      <th>2</th>\n",
       "      <td>7.78846</td>\n",
       "      <td>7.790911</td>\n",
       "      <td>2.450871</td>\n",
       "    </tr>\n",
       "    <tr>\n",
       "      <th>3</th>\n",
       "      <td>8.798941</td>\n",
       "      <td>8.801384</td>\n",
       "      <td>2.443157</td>\n",
       "    </tr>\n",
       "    <tr>\n",
       "      <th>4</th>\n",
       "      <td>9.809386</td>\n",
       "      <td>9.81185</td>\n",
       "      <td>2.464106</td>\n",
       "    </tr>\n",
       "    <tr>\n",
       "      <th>5</th>\n",
       "      <td>10.828649</td>\n",
       "      <td>10.840241</td>\n",
       "      <td>11.592292</td>\n",
       "    </tr>\n",
       "    <tr>\n",
       "      <th>...</th>\n",
       "      <td>...</td>\n",
       "      <td>...</td>\n",
       "      <td>...</td>\n",
       "    </tr>\n",
       "    <tr>\n",
       "      <th>605</th>\n",
       "      <td>636.351655</td>\n",
       "      <td>636.354669</td>\n",
       "      <td>3.014445</td>\n",
       "    </tr>\n",
       "    <tr>\n",
       "      <th>606</th>\n",
       "      <td>637.362432</td>\n",
       "      <td>637.365262</td>\n",
       "      <td>2.829674</td>\n",
       "    </tr>\n",
       "    <tr>\n",
       "      <th>607</th>\n",
       "      <td>638.411163</td>\n",
       "      <td>638.414149</td>\n",
       "      <td>2.98542</td>\n",
       "    </tr>\n",
       "    <tr>\n",
       "      <th>608</th>\n",
       "      <td>639.421232</td>\n",
       "      <td>639.425329</td>\n",
       "      <td>4.097334</td>\n",
       "    </tr>\n",
       "    <tr>\n",
       "      <th>609</th>\n",
       "      <td>640.451873</td>\n",
       "      <td>640.454599</td>\n",
       "      <td>2.7264</td>\n",
       "    </tr>\n",
       "  </tbody>\n",
       "</table>\n",
       "<p>609 rows × 3 columns</p>\n",
       "</div>"
      ],
      "text/plain": [
       "    Time_publish    Time_ack        RTT\n",
       "1       6.778768    6.781292   2.523318\n",
       "2        7.78846    7.790911   2.450871\n",
       "3       8.798941    8.801384   2.443157\n",
       "4       9.809386     9.81185   2.464106\n",
       "5      10.828649   10.840241  11.592292\n",
       "..           ...         ...        ...\n",
       "605   636.351655  636.354669   3.014445\n",
       "606   637.362432  637.365262   2.829674\n",
       "607   638.411163  638.414149    2.98542\n",
       "608   639.421232  639.425329   4.097334\n",
       "609   640.451873  640.454599     2.7264\n",
       "\n",
       "[609 rows x 3 columns]"
      ]
     },
     "execution_count": 8,
     "metadata": {},
     "output_type": "execute_result"
    }
   ],
   "source": [
    "RTT"
   ]
  },
  {
   "cell_type": "markdown",
   "id": "0ac2ca59",
   "metadata": {},
   "source": [
    "# <font color=green>CÁLCULO DO TAMANHO DA AMOSTRA</font>\n",
    "***"
   ]
  },
  {
   "cell_type": "markdown",
   "id": "fdc5ed93",
   "metadata": {},
   "source": [
    "## <font color=green>Variáveis quantitativas e população infinita</font>\n",
    "***\n"
   ]
  },
  {
   "cell_type": "markdown",
   "id": "10cf3ba1",
   "metadata": {},
   "source": [
    "## Nívéis de confiança e significância "
   ]
  },
  {
   "cell_type": "markdown",
   "id": "21d174fd",
   "metadata": {},
   "source": [
    "O **nível de confiança** ($1 - \\alpha$) representa a probabilidade de acerto da estimativa. De forma complementar o **nível de significância** ($\\alpha$) expressa a probabilidade de erro da estimativa.\n",
    "\n",
    "O **nível de confiança** representa o grau de confiabilidade do resultado da estimativa estar dentro de determinado intervalo. Quando fixamos em uma pesquisa um **nível de confiança** de 95%, por exemplo, estamos assumindo que existe uma probabilidade de 95% dos resultados da pesquisa representarem bem a realidade, ou seja, estarem corretos.\n",
    "\n",
    "O **nível de confiança** de uma estimativa pode ser obtido a partir da área sob a curva normal como ilustrado na figura abaixo."
   ]
  },
  {
   "cell_type": "markdown",
   "id": "5d9e6da5",
   "metadata": {},
   "source": [
    "![alt text](https://caelum-online-public.s3.amazonaws.com/1178-estatistica-parte2/01/img007.png)"
   ]
  },
  {
   "cell_type": "markdown",
   "id": "1294d154",
   "metadata": {},
   "source": [
    "Em nosso trabalho iremos utilizar um nivel de confiança de 95%, logo abaixo iremos calcular o Z.\n",
    "\n",
    "Esta variável $Z$ representa o afastamento em desvios padrões de um valor da variável original em relação à média."
   ]
  },
  {
   "cell_type": "code",
   "execution_count": 9,
   "id": "3cdc62d4",
   "metadata": {},
   "outputs": [],
   "source": [
    "nivel_de_significancia = 0.05"
   ]
  },
  {
   "cell_type": "code",
   "execution_count": 10,
   "id": "148eceec",
   "metadata": {},
   "outputs": [
    {
     "data": {
      "text/plain": [
       "0.95"
      ]
     },
     "execution_count": 10,
     "metadata": {},
     "output_type": "execute_result"
    }
   ],
   "source": [
    "nivel_de_confiança = 1 - nivel_de_significancia\n",
    "nivel_de_confiança"
   ]
  },
  {
   "cell_type": "code",
   "execution_count": 11,
   "id": "17732d08",
   "metadata": {},
   "outputs": [
    {
     "data": {
      "text/plain": [
       "1.959963984540054"
      ]
     },
     "execution_count": 11,
     "metadata": {},
     "output_type": "execute_result"
    }
   ],
   "source": [
    "#Calculando o z com scipy\n",
    "z = scipy.stats.norm.ppf(0.975)\n",
    "z"
   ]
  },
  {
   "cell_type": "markdown",
   "id": "e1bae257",
   "metadata": {},
   "source": [
    "Com nosso z calculado podemos seguir adiante\n",
    "\n",
    "### $$z = 1.959963984540054 $$\n",
    "\n",
    "Abaixo segue algumas formulas que iremos utilizar para calcular o numero de amostra\n",
    "\n"
   ]
  },
  {
   "cell_type": "markdown",
   "id": "d2fadf49",
   "metadata": {},
   "source": [
    "## $$n = \\left(z\\frac{s}{e}\\right)^2$$\n",
    "\n",
    "\n",
    "$$e = \\left(e *  \\right)^2$$\n",
    "\n",
    "\n",
    "\n",
    "Onde:\n",
    "\n",
    "$z$ = variável normal padronizada\n",
    "\n",
    "$s$ = desvio padrão amostral\n",
    "\n",
    "$e$ = erro inferencial\n",
    "\n",
    "\n"
   ]
  },
  {
   "cell_type": "markdown",
   "id": "5e415237",
   "metadata": {},
   "source": [
    "### Calculando a desvio padrão $s$"
   ]
  },
  {
   "cell_type": "code",
   "execution_count": 25,
   "id": "b5adbfd6",
   "metadata": {},
   "outputs": [
    {
     "data": {
      "text/plain": [
       "9.329458861571394"
      ]
     },
     "execution_count": 25,
     "metadata": {},
     "output_type": "execute_result"
    }
   ],
   "source": [
    "desvio_padrao_amostral = RTT[\"RTT\"].std()\n",
    "desvio_padrao_amostral"
   ]
  },
  {
   "cell_type": "markdown",
   "id": "46dfe447",
   "metadata": {},
   "source": [
    "### Calculando o Erro"
   ]
  },
  {
   "cell_type": "code",
   "execution_count": 13,
   "id": "99954791",
   "metadata": {},
   "outputs": [
    {
     "data": {
      "text/plain": [
       "0.2284361217568699"
      ]
     },
     "execution_count": 13,
     "metadata": {},
     "output_type": "execute_result"
    }
   ],
   "source": [
    "media = RTT[\"RTT\"].mean()\n",
    "e = 0.05 * media\n",
    "e"
   ]
  },
  {
   "cell_type": "markdown",
   "id": "5d951bae",
   "metadata": {},
   "source": [
    "### Calculando o tamanho da nossa amostra"
   ]
  },
  {
   "cell_type": "code",
   "execution_count": 14,
   "id": "f0ad0197",
   "metadata": {},
   "outputs": [],
   "source": [
    "n = (z * (desvio_padrao_amostral/e))**2\n",
    "n"
   ]
  }
 ],
 "metadata": {
  "kernelspec": {
   "display_name": "Python 3 (ipykernel)",
   "language": "python",
   "name": "python3"
  },
  "language_info": {
   "codemirror_mode": {
    "name": "ipython",
    "version": 3
   },
   "file_extension": ".py",
   "mimetype": "text/x-python",
   "name": "python",
   "nbconvert_exporter": "python",
   "pygments_lexer": "ipython3",
   "version": "3.10.7"
  }
 },
 "nbformat": 4,
 "nbformat_minor": 5
}
